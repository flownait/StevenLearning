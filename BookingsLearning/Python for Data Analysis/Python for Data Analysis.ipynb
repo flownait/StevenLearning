{
 "cells": [
  {
   "cell_type": "markdown",
   "metadata": {},
   "source": [
    "# \"Python for Data Analysis\" Course from [Oreilly](https://learning.oreilly.com/library/view/python-for-data/9781491957653/)"
   ]
  },
  {
   "cell_type": "markdown",
   "metadata": {},
   "source": [
    "## Preparations\n",
    "- **References**\n",
    "    * NA"
   ]
  },
  {
   "cell_type": "markdown",
   "metadata": {},
   "source": [
    "## 3.1 Data Structures and Sequences\n",
    "- **tuple**\n",
    "    * A tuple is a fixed-length, **immutable** sequence of Python objects\n",
    "    * If an object inside a tuple is mutable, such as a list, you can modify it in-place:\n",
    "- **list**\n",
    "    * In contrast with tuples, lists are variable-length and their contents can be **modified** in-place. \n",
    "    * You can define them using square brackets [] or using the list type function\n",
    "    * Lists and tuples are semantically similar (though tuples cannot be modified) and can be used interchangeably in many functions\n",
    "- **dict**\n",
    "    * dict is likely the most important built-in Python data structure. A more common name for it is hash map or associative array. It is a flexibly sized collection of key-value pairs, where key and value are Python objects. One approach for creating one is to use curly braces {} and colons to separate keys and values. \n",
    "    * While the values of a dict can be any Python object, the **keys** generally have to be **immutable** objects like scalar types (int, float, string) or tuples (all the objects in the tuple need to be immutable, too)\n",
    "- **set**\n",
    "    * A set is an unordered collection of unique elements. You can think of them like dicts, but keys only, no values. A set can be created in two ways: via the set function or via a set literal with curly braces\n"
   ]
  },
  {
   "cell_type": "code",
   "execution_count": 67,
   "metadata": {},
   "outputs": [
    {
     "name": "stdout",
     "output_type": "stream",
     "text": [
      "(4, 5, 6, (7, 8, 9), [10, 11, 12])\n",
      "(6, (7, 8, 9))\n",
      "[10, 'a', 12, 13]\n",
      "Convert to a tuple: (1, 2, 3) ('s', 't', 'r', 'i', 'n', 'g')\n",
      "Convert to a list: ['s', 't', 'r', 'i', 'n', 'g'] [0, 1, 2, 3, 4, 5, 6, 7, 8, 9]\n",
      "(1, 2, 3, 's', 't', 'r', 'i', 'n', 'g')\n",
      "(1, 2, 3, 1, 2, 3, 1, 2, 3, 's', 't', 'r', 'i', 'n', 'g')\n",
      "Unpacking Tuples: (7, 8, 9) 10 a\n",
      "a=1, b=2, c=3, the rest=[4, 5, 6]\n",
      "a=7, b=8, c=9, the rest=[10, 11, 12]\n",
      "a=13, b=14, c=15, the rest=[16, 17, 18]\n",
      "a=1, b=2, c=3\n",
      "a=7, b=8, c=9\n",
      "a=13, b=14, c=15\n",
      "Swapping variables: 10 a (7, 8, 9)\n",
      "Create a dictionary using dict: {0: 4, 1: 3, 2: 2, 3: 1, 4: 0}\n",
      "Find a key: 4; Not Find a key: default_value\n",
      "{1, 2, 3}\n",
      "union two sets: {1, 2, 3, 4, 5, 6, 7, 8} {1, 2, 3, 4, 5, 6, 7, 8}\n",
      "inner join two sets: {3} {3}\n"
     ]
    }
   ],
   "source": [
    "# Define a tuple\n",
    "tup = 4, 5, 6, (7, 8 ,9), [10, 11, 12]\n",
    "print(tup)\n",
    "\n",
    "# Select element of a tuple\n",
    "print(tup[2:4])\n",
    "\n",
    "# Modify mutable object inside a tuple\n",
    "tup[4].append(13)\n",
    "tup[4][1] = 'a'\n",
    "\n",
    "print(tup[4])\n",
    "\n",
    "# Convert to a tuple or a list\n",
    "print(\"Convert to a tuple:\", tuple([1, 2, 3]), tuple('string'))\n",
    "print(\"Convert to a list:\", list(tuple('string')), list(range(10)))\n",
    "\n",
    "# concatenate tuples using +, *\n",
    "print(tuple([1, 2, 3]) + tuple('string'))\n",
    "print(tuple([1, 2, 3])*3 + tuple('string'))\n",
    "\n",
    "# UNPACKING TUPLES with nested tuples\n",
    "a, b, c, d, [e, f, g, h] = tup\n",
    "print(\"Unpacking Tuples:\", d, e, f)\n",
    "\n",
    "# A common use of variable unpacking is iterating over sequences of tuples or lists:\n",
    "seq = [(1, 2, 3, 4, 5, 6), (7, 8, 9, 10, 11, 12), (13, 14, 15, 16, 17, 18)]\n",
    "for a, b, c, *rest in seq:\n",
    "    print('a={0}, b={1}, c={2}, the rest={3}'.format(a, b, c, rest))\n",
    "# if don't want the rest variables\n",
    "for a, b, c, *_ in seq:\n",
    "    print('a={0}, b={1}, c={2}'.format(a, b, c))\n",
    "\n",
    "# Swapping variables\n",
    "d, e, f = e, f, d\n",
    "print(\"Swapping variables:\", d, e, f)\n",
    "\n",
    "# Creating a dictionary\n",
    "mapping = dict(zip(range(5), reversed(range(5))))\n",
    "print(\"Create a dictionary using dict:\", mapping)\n",
    "# Find value based on a given key\n",
    "val1 = mapping.get(6, 'default_value')\n",
    "val2 = mapping.get(0, 'default_value')\n",
    "print('Find a key: {1}; Not Find a key: {0}'.format(val1, val2))\n",
    "\n",
    "# Create a set\n",
    "set1 = set([2, 2, 2, 1, 3, 3])\n",
    "set2 = {3, 4, 5, 6, 7, 8}\n",
    "print(set1)\n",
    "print('union two sets:',set1.union(set2), set1 | set2)\n",
    "print('inner join two sets:',set1.intersection(set2), set1 & set2)\n"
   ]
  },
  {
   "cell_type": "markdown",
   "metadata": {},
   "source": [
    "- **Change/Update Variables**\n",
    "   * Tuples CANNOT be **modified**, while lists can be **modified**. \n",
    "   * WARNING: **insert** is computationally expensive compared with **append**, because references to subsequent elements have to be shifted internally to make room for the new element.\n",
    "   * Using **extend** to append elements is faster than the concatenative **+**\n",
    "   * In dictionary, you can delete values either using the **del** keyword or the **pop** method (which simultaneously returns the value and deletes the key)\n",
    "   * In dictionary, the update method changes dicts in-place, so **any existing keys** in the data passed to update will have their **old values discarded**."
   ]
  },
  {
   "cell_type": "code",
   "execution_count": 50,
   "metadata": {},
   "outputs": [
    {
     "name": "stdout",
     "output_type": "stream",
     "text": [
      "[0, 1, 2, 3, 4, 5, 6, 7, 8, 9]\n",
      "Add an element to the end: [0, 1, 2, 3, 4, 5, 6, 7, 8, 9, 'a']\n",
      "Insert an element at a specific location: [0, 'a', 1, 2, 3, 4, 5, 6, 7, 8, 9, 'a']\n",
      "Append multiple elements: [0, 'a', 1, 2, 3, 4, 5, 6, 7, 8, 9, 'a', 'b', 'c', 'd']\n",
      "Concatenates lists: [0, 'a', 1, 2, 3, 4, 5, 6, 7, 8, 9, 'a', 'b', 'c', 'd', 'e', 'f']\n",
      "Remove an element at a specific location: [0, 'a', 2, 3, 4, 5, 6, 7, 8, 9, 'a', 'b', 'c', 'd']\n",
      "Remove the first matched element: [0, 2, 3, 4, 5, 6, 7, 8, 9, 'a', 'b', 'c', 'd']\n",
      "Check if a list contains 'a' value: True False\n",
      "----------------------------\n",
      "### Below for dictionary ###\n",
      "Add element into dictionary: {'a': 'some value', 'b': [1, 2, 3, 4], 7: 'an integer'}\n",
      "Delete element using del into dictionary: {'a': 'some value', 'b': [1, 2, 3, 4]}\n",
      "Delete element using pop into dictionary: {'b': [1, 2, 3, 4]}\n",
      "Merge element into dictionary: {'b': [1, 2, 3, 4], 'd': 'foo', 'c': 12}\n",
      "The keys are: ['b', 'd', 'c'] and the values are: [[1, 2, 3, 4], 'foo', 12]\n"
     ]
    }
   ],
   "source": [
    "ls = list(range(10))\n",
    "print(ls)\n",
    "\n",
    "# Add/Insert/Delete elements\n",
    "ls.append('a')\n",
    "print(\"Add an element to the end:\", ls)\n",
    "ls.insert(1, 'a')\n",
    "print(\"Insert an element at a specific location:\", ls)\n",
    "ls.extend(['b', 'c', 'd'])\n",
    "print(\"Append multiple elements:\", ls)\n",
    "print(\"Concatenates lists:\", ls + ['e', 'f'])\n",
    "ls.pop(2)\n",
    "print(\"Remove an element at a specific location:\", ls)\n",
    "ls.remove('a')\n",
    "print(\"Remove the first matched element:\", ls)\n",
    "\n",
    "# Others\n",
    "print(\"Check if a list contains 'a' value:\", 'a' in ls, 'a' not in ls)\n",
    "\n",
    "print(\"----------------------------\")\n",
    "print(\"### Below for dictionary ###\")\n",
    "# Add element into dictionary\n",
    "d1 = {'a' : 'some value', 'b' : [1, 2, 3, 4]}\n",
    "d1[7] = 'an integer'\n",
    "print(\"Add element into dictionary:\", d1)\n",
    "# Add element into dictionary\n",
    "del(d1[7])\n",
    "print(\"Delete element using del into dictionary:\", d1)\n",
    "d1.pop('a')\n",
    "print(\"Delete element using pop into dictionary:\", d1)\n",
    "# Merge element into dictionary\n",
    "d1.update({'d' : 'foo', 'c' : 12})\n",
    "print(\"Merge element into dictionary:\", d1)\n",
    "print(\"The keys are: {0} and the values are: {1}\".format(list(d1.keys()),list(d1.values())))\n"
   ]
  },
  {
   "cell_type": "markdown",
   "metadata": {},
   "source": [
    "- **Slicing**\n",
    "   * While the element at the start index is included, the stop index is not included, so that the number of elements in the result is stop - start.\n",
    "   ![pyda_1302.png](./pyda_1302.png)\n",
    "\n",
    "- **Some Useful Built-in Functions**\n",
    "   * __enumerate__ is to iterate over a sequence, which returns a sequence of (i, value) tuples\n",
    "   * __zip__ can take an arbitrary number of sequences, and the number of elements it produces is determined by the shortest sequence\n",
    "   * __reversed__ is a generator, so it does not create the reversed sequence until materialized (e.g., with list or a for loop)"
   ]
  },
  {
   "cell_type": "code",
   "execution_count": 34,
   "metadata": {},
   "outputs": [
    {
     "name": "stdout",
     "output_type": "stream",
     "text": [
      "Using enumerate to iterate: {'foo': 0, 'bar': 1, 'baz': 2}\n",
      "Using zip to pair elements: {'foo': 1, 'bar': 2, 'baz': 3}\n",
      "zip is determined by the shortest sequence: [('foo', 1, False), ('bar', 2, True)]\n",
      "{('foo', 1): 0, ('bar', 2): 1, ('baz', 3): 2}\n",
      "To unzip the sequence: ('foo', 'bar', 'baz'), (1, 2, 3)\n",
      "[9, 8, 7, 6, 5, 4, 3, 2, 1, 0]\n"
     ]
    }
   ],
   "source": [
    "# enumerate is to iterate over a sequence, which returns a sequence of (i, value) tuples\n",
    "some_list = ['foo', 'bar', 'baz']\n",
    "mapping = {}\n",
    "for i, v in enumerate(some_list):\n",
    "    mapping[v] = i\n",
    "print(\"Using enumerate to iterate: {0}\".format(mapping))\n",
    "\n",
    "# zip “pairs” up the elements of a number of lists, tuples, or other sequences to create a list of tuples\n",
    "seq1 = ['foo', 'bar', 'baz']\n",
    "seq2 = [1, 2, 3]\n",
    "seq3 = [False, True]\n",
    "zipped1 = zip(seq1, seq2)\n",
    "zipped2 = zip(seq1, seq2, seq3)\n",
    "print(\"Using zip to pair elements: {0}\".format(dict(zipped1)))\n",
    "print(\"zip is determined by the shortest sequence: {0}\".format(list(zipped2)))\n",
    "\n",
    "mapping = {}\n",
    "for i, (a, b) in enumerate(zip(seq1, seq2)):\n",
    "    mapping[(a,b)] = i\n",
    "print(mapping)\n",
    "unzip1, unzip2 = zip(*mapping)\n",
    "print(\"To unzip the sequence: {0}, {1}\".format(unzip1, unzip2))\n",
    "\n",
    "# reversed iterates over the elements of a sequence in reverse order\n",
    "print(list(reversed(range(10))))"
   ]
  },
  {
   "cell_type": "markdown",
   "metadata": {},
   "source": [
    "- **List, Set, and Dict Comprehensions**\n",
    "   * nested list comprehension actually is same as a nested for loop\n",
    "   * Like:  \n",
    "       for x in all:\n",
    "           for y in x: \n",
    "               t = x\n",
    "\n"
   ]
  },
  {
   "cell_type": "code",
   "execution_count": 77,
   "metadata": {},
   "outputs": [
    {
     "name": "stdout",
     "output_type": "stream",
     "text": [
      "{6: 36, 7: 49, 8: 64, 9: 81}\n",
      "{'s': 6, 't': 1, 'r': 2, 'i': 3, 'n': 4, 'g': 5}\n",
      "['Maria', 'Natalia']\n"
     ]
    }
   ],
   "source": [
    "# list comprehension: [expr for val in collection if condition]\n",
    "# set comprehension: {expr for value in collection if condition}\n",
    "# dict comprehension: {key-expr : value-expr for value in collection if condition}\n",
    "print({i : i**2 for i in range(10) if i>5})\n",
    "print({val : index for index, val in enumerate('strings')})\n",
    "\n",
    "# Nested list comprehensions\n",
    "all_data = [['John', 'Emily', 'Michael', 'Mary', 'Steven'],\n",
    "            ['Maria', 'Juan', 'Javier', 'Natalia', 'Pilar']]\n",
    "print([name for names in all_data for name in names if name.count('a') >= 2])"
   ]
  },
  {
   "cell_type": "code",
   "execution_count": 59,
   "metadata": {},
   "outputs": [
    {
     "data": {
      "text/plain": [
       "-968446197265985384"
      ]
     },
     "execution_count": 59,
     "metadata": {},
     "output_type": "execute_result"
    }
   ],
   "source": []
  },
  {
   "cell_type": "code",
   "execution_count": null,
   "metadata": {},
   "outputs": [],
   "source": []
  },
  {
   "cell_type": "code",
   "execution_count": null,
   "metadata": {},
   "outputs": [],
   "source": []
  },
  {
   "cell_type": "code",
   "execution_count": null,
   "metadata": {},
   "outputs": [],
   "source": []
  },
  {
   "cell_type": "code",
   "execution_count": 35,
   "metadata": {},
   "outputs": [],
   "source": [
    "import matplotlib.pyplot as plt\n",
    "import seaborn as sns\n",
    "import scipy.stats\n",
    "import pandas as pd\n",
    "import numpy as np\n",
    "# from scipy.stats import uniform\n",
    "# from scipy.stats import norm"
   ]
  },
  {
   "cell_type": "code",
   "execution_count": 36,
   "metadata": {},
   "outputs": [
    {
     "data": {
      "image/png": "[encoded data removed]",
      "text/plain": [
       "<Figure size 432x288 with 1 Axes>"
      ]
     },
     "metadata": {
      "needs_background": "light"
     },
     "output_type": "display_data"
    }
   ],
   "source": [
    "data_normal = scipy.stats.norm.rvs(size=10000, loc=1, scale=1)\n",
    "ax = sns.distplot(data_normal,\n",
    "                  bins=100,\n",
    "                  kde=True,\n",
    "                  color='skyblue',\n",
    "                  hist_kws={\"linewidth\": 15,'alpha':1})\n",
    "ax.set(xlabel='Normal Distribution', ylabel='Frequency')\n",
    "plt.show()"
   ]
  },
  {
   "cell_type": "code",
   "execution_count": null,
   "metadata": {},
   "outputs": [],
   "source": []
  },
  {
   "cell_type": "code",
   "execution_count": null,
   "metadata": {},
   "outputs": [],
   "source": []
  }
 ],
 "metadata": {
  "kernelspec": {
   "display_name": "Python 3",
   "language": "python",
   "name": "python3"
  },
  "language_info": {
   "codemirror_mode": {
    "name": "ipython",
    "version": 3
   },
   "file_extension": ".py",
   "mimetype": "text/x-python",
   "name": "python",
   "nbconvert_exporter": "python",
   "pygments_lexer": "ipython3",
   "version": "3.6.8"
  }
 },
 "nbformat": 4,
 "nbformat_minor": 2
}
