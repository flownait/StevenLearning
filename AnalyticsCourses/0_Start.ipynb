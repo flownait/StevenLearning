{
 "cells": [
  {
   "cell_type": "markdown",
   "metadata": {},
   "source": [
    "## \"Learn Python for Data Science\" Course from [Analytics Vidhya](https://courses.analyticsvidhya.com/courses/introduction-to-data-science?utm_source=blog&utm_medium=Comprehensive-learning-path-ds-python-page)"
   ]
  },
  {
   "cell_type": "markdown",
   "metadata": {},
   "source": [
    "### Some Shortcut for Jupyternotebook\n",
    "A to insert a new cell above the current cell, B to insert a new cell below.\n",
    "\n",
    "M to change the current cell to Markdown, Y to change it back to code\n",
    "\n",
    "D + D (press the key twice) to delete the current cell"
   ]
  },
  {
   "cell_type": "markdown",
   "metadata": {},
   "source": [
    "## Arithmetic Operators"
   ]
  },
  {
   "cell_type": "code",
   "execution_count": 5,
   "metadata": {},
   "outputs": [
    {
     "name": "stdout",
     "output_type": "stream",
     "text": [
      "8 5.0 70 27\n"
     ]
    }
   ],
   "source": [
    "# Addtion, Division, Multiplication, Subtraction\n",
    "print (3+5, 35/7, 35*2, 35-8)\n"
   ]
  },
  {
   "cell_type": "markdown",
   "metadata": {},
   "source": [
    "## Comparison Operators"
   ]
  },
  {
   "cell_type": "code",
   "execution_count": 6,
   "metadata": {},
   "outputs": [
    {
     "name": "stdout",
     "output_type": "stream",
     "text": [
      "True False True\n"
     ]
    }
   ],
   "source": [
    "print (45 > 34, 44 < 32, 43 == 43)"
   ]
  },
  {
   "cell_type": "markdown",
   "metadata": {},
   "source": [
    "## Logical Operators"
   ]
  },
  {
   "cell_type": "code",
   "execution_count": 18,
   "metadata": {},
   "outputs": [
    {
     "name": "stdout",
     "output_type": "stream",
     "text": [
      "0 0 7 3\n"
     ]
    }
   ],
   "source": [
    "# and operator\n",
    "## 0 is True, other number is True\n",
    "## Check 1st number, if False then return 1st\n",
    "## If True, then check next, and then return final\n",
    "print (0 and 1, 3 and 0, 3 and 7, 7 and 3)"
   ]
  },
  {
   "cell_type": "code",
   "execution_count": 14,
   "metadata": {},
   "outputs": [
    {
     "name": "stdout",
     "output_type": "stream",
     "text": [
      "3 3 3 7\n"
     ]
    }
   ],
   "source": [
    "# or operator\n",
    "## 0 is True, other number is True\n",
    "## Check 1st number if True then return 1st\n",
    "## If False, then check next, and then return final\n",
    "print (0 or 3, 3 or 0, 3 or 7, 7 or 3)"
   ]
  },
  {
   "cell_type": "code",
   "execution_count": null,
   "metadata": {},
   "outputs": [],
   "source": []
  }
 ],
 "metadata": {
  "kernelspec": {
   "display_name": "Python 3",
   "language": "python",
   "name": "python3"
  },
  "language_info": {
   "codemirror_mode": {
    "name": "ipython",
    "version": 3
   },
   "file_extension": ".py",
   "mimetype": "text/x-python",
   "name": "python",
   "nbconvert_exporter": "python",
   "pygments_lexer": "ipython3",
   "version": "3.6.8"
  }
 },
 "nbformat": 4,
 "nbformat_minor": 4
}
