{
 "cells": [
  {
   "cell_type": "markdown",
   "metadata": {},
   "source": [
    "# \"Python for Data Analysis\" Course from [Oreilly](https://learning.oreilly.com/library/view/python-for-data/9781491957653/)\n",
    "## Chapter 3. Built-in Data Structures, Functions, and Files [Chapter3](https://learning.oreilly.com/library/view/python-for-data/9781491957653/ch03.html)"
   ]
  },
  {
   "cell_type": "markdown",
   "metadata": {},
   "source": [
    "## Preparations\n",
    "- **References**\n",
    "    * Chapter 3. Built-in Data Structures, Functions, and Files"
   ]
  },
  {
   "cell_type": "markdown",
   "metadata": {},
   "source": [
    "## 3.1 Data Structures and Sequences\n",
    "- **tuple**\n",
    "    * A tuple is a fixed-length, **immutable** sequence of Python objects\n",
    "    * If an object inside a tuple is mutable, such as a list, you can modify it in-place:\n",
    "- **list**\n",
    "    * In contrast with tuples, lists are variable-length and their contents can be **modified** in-place. \n",
    "    * You can define them using square brackets [] or using the list type function\n",
    "    * Lists and tuples are semantically similar (though tuples cannot be modified) and can be used interchangeably in many functions\n",
    "- **dict**\n",
    "    * dict is likely the most important built-in Python data structure. A more common name for it is hash map or associative array. It is a flexibly sized collection of key-value pairs, where key and value are Python objects. One approach for creating one is to use curly braces {} and colons to separate keys and values. \n",
    "    * While the values of a dict can be any Python object, the **keys** generally have to be **immutable** objects like scalar types (int, float, string) or tuples (all the objects in the tuple need to be immutable, too)\n",
    "- **set**\n",
    "    * A set is an unordered collection of unique elements. You can think of them like dicts, but keys only, no values. A set can be created in two ways: via the set function or via a set literal with curly braces\n"
   ]
  },
  {
   "cell_type": "code",
   "execution_count": 143,
   "metadata": {},
   "outputs": [
    {
     "name": "stdout",
     "output_type": "stream",
     "text": [
      "(4, 5, 6, (7, 8, 9), [10, 11, 12])\n",
      "(6, (7, 8, 9))\n",
      "[10, 'a', 12, 13]\n",
      "Convert to a tuple: (1, 2, 3) ('s', 't', 'r', 'i', 'n', 'g')\n",
      "Convert to a list: ['s', 't', 'r', 'i', 'n', 'g'] [0, 1, 2, 3, 4, 5, 6, 7, 8, 9]\n",
      "(1, 2, 3, 's', 't', 'r', 'i', 'n', 'g')\n",
      "(1, 2, 3, 1, 2, 3, 1, 2, 3, 's', 't', 'r', 'i', 'n', 'g')\n",
      "Unpacking Tuples: (7, 8, 9) 10 a\n",
      "a=1, b=2, c=3, the rest=[4, 5, 6]\n",
      "a=7, b=8, c=9, the rest=[10, 11, 12]\n",
      "a=13, b=14, c=15, the rest=[16, 17, 18]\n",
      "a=1, b=2, c=3\n",
      "a=7, b=8, c=9\n",
      "a=13, b=14, c=15\n",
      "Swapping variables: 10 a (7, 8, 9)\n",
      "Create a dictionary using dict: {0: 4, 1: 3, 2: 2, 3: 1, 4: 0}\n",
      "Find a key: 4; Not Find a key: default_value\n",
      "{1, 2, 3}\n",
      "union two sets: {1, 2, 3, 4, 5, 6, 7, 8} {1, 2, 3, 4, 5, 6, 7, 8}\n",
      "inner join two sets: {3} {3}\n"
     ]
    }
   ],
   "source": [
    "# Define a tuple\n",
    "tup = 4, 5, 6, (7, 8 ,9), [10, 11, 12]\n",
    "print(tup)\n",
    "\n",
    "# Select element of a tuple\n",
    "print(tup[2:4])\n",
    "\n",
    "# Modify mutable object inside a tuple\n",
    "tup[4].append(13)\n",
    "tup[4][1] = 'a'\n",
    "\n",
    "print(tup[4])\n",
    "\n",
    "# Convert to a tuple or a list\n",
    "print(\"Convert to a tuple:\", tuple([1, 2, 3]), tuple('string'))\n",
    "print(\"Convert to a list:\", list(tuple('string')), list(range(10)))\n",
    "\n",
    "# concatenate tuples using +, *\n",
    "print(tuple([1, 2, 3]) + tuple('string'))\n",
    "print(tuple([1, 2, 3])*3 + tuple('string'))\n",
    "\n",
    "# UNPACKING TUPLES with nested tuples\n",
    "a, b, c, d, [e, f, g, h] = tup\n",
    "print(\"Unpacking Tuples:\", d, e, f)\n",
    "\n",
    "# A common use of variable unpacking is iterating over sequences of tuples or lists:\n",
    "seq = [(1, 2, 3, 4, 5, 6), (7, 8, 9, 10, 11, 12), (13, 14, 15, 16, 17, 18)]\n",
    "for a, b, c, *rest in seq:\n",
    "    print('a={0}, b={1}, c={2}, the rest={3}'.format(a, b, c, rest))\n",
    "# if don't want the rest variables\n",
    "for a, b, c, *_ in seq:\n",
    "    print('a={0}, b={1}, c={2}'.format(a, b, c))\n",
    "\n",
    "# Swapping variables\n",
    "d, e, f = e, f, d\n",
    "print(\"Swapping variables:\", d, e, f)\n",
    "\n",
    "# Creating a dictionary\n",
    "mapping = dict(zip(range(5), reversed(range(5))))\n",
    "print(\"Create a dictionary using dict:\", mapping)\n",
    "# Find value based on a given key\n",
    "val1 = mapping.get(6, 'default_value')\n",
    "val2 = mapping.get(0, 'default_value')\n",
    "print('Find a key: {1}; Not Find a key: {0}'.format(val1, val2))\n",
    "\n",
    "# Create a set\n",
    "set1 = set([2, 2, 2, 1, 3, 3])\n",
    "set2 = {3, 4, 5, 6, 7, 8}\n",
    "print(set1)\n",
    "print('union two sets:',set1.union(set2), set1 | set2)\n",
    "print('inner join two sets:',set1.intersection(set2), set1 & set2)\n"
   ]
  },
  {
   "cell_type": "markdown",
   "metadata": {},
   "source": [
    "- **Change/Update Variables**\n",
    "   * Tuples CANNOT be **modified**, while lists can be **modified**. \n",
    "   * WARNING: **insert** is computationally expensive compared with **append**, because references to subsequent elements have to be shifted internally to make room for the new element.\n",
    "   * Using **extend** to append elements is faster than the concatenative **+**\n",
    "   * In dictionary, you can delete values either using the **del** keyword or the **pop** method (which simultaneously returns the value and deletes the key)\n",
    "   * In dictionary, the update method changes dicts in-place, so **any existing keys** in the data passed to update will have their **old values discarded**."
   ]
  },
  {
   "cell_type": "code",
   "execution_count": 7,
   "metadata": {},
   "outputs": [
    {
     "name": "stdout",
     "output_type": "stream",
     "text": [
      "[0, 1, 2, 3, 4, 5, 6, 7, 8, 9]\n",
      "Add an element to the end: [0, 1, 2, 3, 4, 5, 6, 7, 8, 9, 'a']\n",
      "Insert an element at a specific location: [0, 'a', 1, 2, 3, 4, 5, 6, 7, 8, 9, 'a']\n",
      "Append multiple elements: [0, 'a', 1, 2, 3, 4, 5, 6, 7, 8, 9, 'a', 'b', 'c', 'd']\n",
      "Concatenates lists: [0, 'a', 1, 2, 3, 4, 5, 6, 7, 8, 9, 'a', 'b', 'c', 'd', 'e', 'f']\n",
      "Remove an element at a specific location: [0, 'a', 2, 3, 4, 5, 6, 7, 8, 9, 'a', 'b', 'c', 'd']\n",
      "Remove the first matched element: [0, 2, 3, 4, 5, 6, 7, 8, 9, 'a', 'b', 'c', 'd']\n",
      "Check if a list contains 'a' value: True False\n",
      "----------------------------\n",
      "### Below for dictionary ###\n",
      "Add element into dictionary: {'a': 'some value', 'b': [1, 2, 3, 4], 7: 'an integer'}\n",
      "Delete element using del into dictionary: {'a': 'some value', 'b': [1, 2, 3, 4]}\n",
      "Delete element using pop into dictionary: {'b': [1, 2, 3, 4]}\n",
      "Merge element into dictionary: {'b': [1, 2, 3, 4], 'd': 'foo', 'c': 12}\n",
      "The keys are: ['b', 'd', 'c'] and the values are: [[1, 2, 3, 4], 'foo', 12]\n"
     ]
    }
   ],
   "source": [
    "ls = list(range(10))\n",
    "print(ls)\n",
    "\n",
    "# Add/Insert/Delete elements\n",
    "ls.append('a')\n",
    "print(\"Add an element to the end:\", ls)\n",
    "ls.insert(1, 'a')\n",
    "print(\"Insert an element at a specific location:\", ls)\n",
    "ls.extend(['b', 'c', 'd'])\n",
    "print(\"Append multiple elements:\", ls)\n",
    "print(\"Concatenates lists:\", ls + ['e', 'f'])\n",
    "ls.pop(2)\n",
    "print(\"Remove an element at a specific location:\", ls)\n",
    "ls.remove('a')\n",
    "print(\"Remove the first matched element:\", ls)\n",
    "\n",
    "# Others\n",
    "print(\"Check if a list contains 'a' value:\", 'a' in ls, 'a' not in ls)\n",
    "\n",
    "print(\"----------------------------\")\n",
    "print(\"### Below for dictionary ###\")\n",
    "# Add element into dictionary\n",
    "d1 = {'a' : 'some value', 'b' : [1, 2, 3, 4]}\n",
    "d1[7] = 'an integer'\n",
    "print(\"Add element into dictionary:\", d1)\n",
    "# Add element into dictionary\n",
    "del(d1[7])\n",
    "print(\"Delete element using del into dictionary:\", d1)\n",
    "d1.pop('a')\n",
    "print(\"Delete element using pop into dictionary:\", d1)\n",
    "# Merge element into dictionary\n",
    "d1.update({'d' : 'foo', 'c' : 12})\n",
    "print(\"Merge element into dictionary:\", d1)\n",
    "print(\"The keys are: {0} and the values are: {1}\".format(list(d1.keys()),list(d1.values())))\n"
   ]
  },
  {
   "cell_type": "markdown",
   "metadata": {},
   "source": [
    "- **Slicing**\n",
    "   * While the element at the start index is included, the stop index is not included, so that the number of elements in the result is stop - start.\n",
    "   ![pyda_1302.png](./pyda_1302.png)\n",
    "   * [Start:Stop:Step]\n",
    "\n",
    "- **Some Useful Built-in Functions**\n",
    "   * __enumerate__ is to iterate over a sequence, which returns a sequence of (i, value) tuples\n",
    "   * __zip__ can take an arbitrary number of sequences, and the number of elements it produces is determined by the shortest sequence\n",
    "   * __reversed__ is a generator, so it does not create the reversed sequence until materialized (e.g., with list or a for loop)"
   ]
  },
  {
   "cell_type": "code",
   "execution_count": 145,
   "metadata": {},
   "outputs": [
    {
     "name": "stdout",
     "output_type": "stream",
     "text": [
      "Using enumerate to iterate: {'foo': 0, 'bar': 1, 'baz': 2}\n",
      "Using zip to pair elements: {'foo': 1, 'bar': 2, 'baz': 3}\n",
      "zip is determined by the shortest sequence: [('foo', 1, False), ('bar', 2, True)]\n",
      "{('foo', 1): 0, ('bar', 2): 1, ('baz', 3): 2}\n",
      "To unzip the sequence: ('foo', 'bar', 'baz'), (1, 2, 3)\n",
      "[9, 8, 7, 6, 5, 4, 3, 2, 1, 0]\n"
     ]
    }
   ],
   "source": [
    "# enumerate is to iterate over a sequence, which returns a sequence of (i, value) tuples\n",
    "some_list = ['foo', 'bar', 'baz']\n",
    "mapping = {}\n",
    "for i, v in enumerate(some_list):\n",
    "    mapping[v] = i\n",
    "print(\"Using enumerate to iterate: {0}\".format(mapping))\n",
    "\n",
    "# zip “pairs” up the elements of a number of lists, tuples, or other sequences to create a list of tuples\n",
    "seq1 = ['foo', 'bar', 'baz']\n",
    "seq2 = [1, 2, 3]\n",
    "seq3 = [False, True]\n",
    "zipped1 = zip(seq1, seq2)\n",
    "zipped2 = zip(seq1, seq2, seq3)\n",
    "print(\"Using zip to pair elements: {0}\".format(dict(zipped1)))\n",
    "print(\"zip is determined by the shortest sequence: {0}\".format(list(zipped2)))\n",
    "\n",
    "mapping = {}\n",
    "for i, (a, b) in enumerate(zip(seq1, seq2)):\n",
    "    mapping[(a,b)] = i\n",
    "print(mapping)\n",
    "unzip1, unzip2 = zip(*mapping)\n",
    "print(\"To unzip the sequence: {0}, {1}\".format(unzip1, unzip2))\n",
    "\n",
    "# reversed iterates over the elements of a sequence in reverse order\n",
    "print(list(reversed(range(10))))"
   ]
  },
  {
   "cell_type": "markdown",
   "metadata": {},
   "source": [
    "- **List, Set, and Dict Comprehensions**\n",
    "   * nested list comprehension actually is same as a nested for loop\n",
    "   * Like:  \n",
    "       for x in all:\n",
    "           for y in x: \n",
    "               t = x\n",
    "\n"
   ]
  },
  {
   "cell_type": "code",
   "execution_count": 20,
   "metadata": {},
   "outputs": [
    {
     "name": "stdout",
     "output_type": "stream",
     "text": [
      "{6: 36, 7: 49, 8: 64, 9: 81}\n",
      "{'s': 6, 't': 1, 'r': 2, 'i': 3, 'n': 4, 'g': 5}\n",
      "['Maria', 'Natalia']\n",
      "flattened nested list: [1, 2, 3, 4, 5, 6, 7, 8, 9]\n",
      "select even postion: [[0, 0, 0], [2, 4, 8], [4, 16, 64], [6, 36, 216], [8, 64, 512]]\n"
     ]
    }
   ],
   "source": [
    "# list comprehension: [expr for val in collection if condition]\n",
    "# set comprehension: {expr for value in collection if condition}\n",
    "# dict comprehension: {key-expr : value-expr for value in collection if condition}\n",
    "print({i : i**2 for i in range(10) if i>5})\n",
    "print({val : index for index, val in enumerate('strings')})\n",
    "\n",
    "# Nested list comprehensions\n",
    "all_data = [['John', 'Emily', 'Michael', 'Mary', 'Steven'],\n",
    "            ['Maria', 'Juan', 'Javier', 'Natalia', 'Pilar']]\n",
    "print([name for names in all_data for name in names if name.count('a') >= 2])\n",
    "\n",
    "\n",
    "some_tuples = [(1, 2, 3), (4, 5, 6), (7, 8, 9)]\n",
    "flattened = [x for tup in some_tuples for x in tup]\n",
    "print('flattened nested list: {0}'.format(flattened))\n",
    "\n",
    "ls2 = [[i, i**2, i**3] for i in range(10)]\n",
    "print(\"select even postion: {0}\".format(ls2[::2]))"
   ]
  },
  {
   "cell_type": "markdown",
   "metadata": {},
   "source": [
    "## 3.2 Functions\n",
    "\n",
    "- **Functions**\n",
    "   * Functions are declared with the __def__ keyword and returned from with the __return__ keyword\n",
    "   * Each function can have __positional__ arguments and __keyword__ arguments. Keyword arguments are most commonly used to specify default values or optional arguments. \n",
    "       * The main restriction on function arguments is that the keyword arguments must follow the positional arguments (if any). You can specify keyword arguments __in any order__; this frees you from having to remember which order the function arguments were specified in and only what their names are\n",
    "   * Functions can access variables in two different scopes: **global** and **local**. An alternative and more descriptive name describing a variable scope in Python is a namespace. Any variables that are assigned within a function by default are assigned to the local namespace. The local namespace is created when the function is called and immediately populated by the function’s arguments. After the function is finished, the local namespace is destroyed (with some exceptions that are outside the purview of this chapter).\n",
    "       * Assigning variables outside of the function’s scope is possible, but those variables must be declared as global via the **global** keyword\n"
   ]
  },
  {
   "cell_type": "code",
   "execution_count": 101,
   "metadata": {},
   "outputs": [
    {
     "name": "stdout",
     "output_type": "stream",
     "text": [
      "(77, 11)\n",
      "(77, 11)\n",
      "The difference beween local and global: \n",
      "global(changed): None, \n",
      "local(no change): [2, 3]\n",
      "\n",
      "['Alabama', 'Georgia', 'Georgia', 'Georgia', 'Florida', 'South   Carolina', 'West Virginia']\n",
      "['Alabama', 'Georgia', 'Georgia', 'Georgia', 'Florida', 'South   Carolina', 'West Virginia']\n"
     ]
    }
   ],
   "source": [
    "def my_function(x, y, z = 2):\n",
    "    if z > 1:\n",
    "        return z * (x + y), (x + y)\n",
    "    else:\n",
    "        return z / (x + y)\n",
    "\n",
    "print(my_function(x=5, y=6, z=7))\n",
    "print(my_function(y=6, x=5, z=7))\n",
    "\n",
    "\n",
    "glb_a = [1, 2]\n",
    "glb_b = [2, 3]\n",
    "\n",
    "def my_another():\n",
    "    global glb_a\n",
    "    glb_a = None\n",
    "    glb_b = None\n",
    "\n",
    "my_another()\n",
    "print(\"The difference beween local and global: \\nglobal(changed): {0}, \\nlocal(no change): {1}\".format(glb_a, glb_b))\n",
    "\n",
    "states = ['   Alabama ', 'Georgia!', 'Georgia', 'georgia', 'FlOrIda',\n",
    "          'south   carolina##', 'West virginia?']\n",
    "\n",
    "import re\n",
    "\n",
    "def clean_strings(strings):\n",
    "    result = []\n",
    "    for value in strings:\n",
    "        value = value.strip()\n",
    "        value = re.sub('[!#?]', '', value)\n",
    "        value = value.title()\n",
    "        result.append(value)\n",
    "    return result\n",
    "\n",
    "\n",
    "def remove_punctuation(value):\n",
    "    return re.sub('[!#?]', '', value)\n",
    "\n",
    "clean_ops = [str.strip, remove_punctuation, str.title]\n",
    "\n",
    "def clean_strings_2nd(strings, ops):\n",
    "    result = []\n",
    "    for value in strings:\n",
    "        for function in ops:\n",
    "            value = function(value)\n",
    "        result.append(value)\n",
    "    return result\n",
    "\n",
    "print('\\n{0}\\n{1}'.format(clean_strings(states),clean_strings_2nd(states,clean_ops)))\n"
   ]
  },
  {
   "cell_type": "markdown",
   "metadata": {},
   "source": [
    "\n",
    "- **Anonymous (Lambda) Functions**\n",
    "   * Python has support for so-called anonymous or lambda functions, which are a way of writing functions consisting of a single statement, the result of which is the return value. They are defined with the **lambda** keyword"
   ]
  },
  {
   "cell_type": "code",
   "execution_count": 108,
   "metadata": {},
   "outputs": [
    {
     "name": "stdout",
     "output_type": "stream",
     "text": [
      "sort a collection of strings by the number of distinct letters :['aaaa', 'foo', 'abab', 'bar', 'card']\n"
     ]
    }
   ],
   "source": [
    "strings = ['foo', 'card', 'bar', 'aaaa', 'abab']\n",
    "strings.sort(key=lambda x: len(set(list(x))))\n",
    "print(\"sort a collection of strings by the number of distinct letters :{0}\".format(strings))"
   ]
  },
  {
   "cell_type": "markdown",
   "metadata": {},
   "source": [
    "\n",
    "- **Generators**\n",
    "   * Having a consistent way to iterate over sequences, like objects in a list or lines in a file, is an important Python feature. This is accomplished by means of the **iterator** protocol, a generic way to make objects iterable\n",
    "   * To create a generator, use the yield keyword instead of return in a function\n",
    "   * Another even more concise way to make a generator is by using a generator expression. This is a generator analogue to list, dict, and set comprehensions; to create one, enclose what would otherwise be a list comprehension within **parentheses** instead of brackets\n",
    "   "
   ]
  },
  {
   "cell_type": "code",
   "execution_count": 121,
   "metadata": {},
   "outputs": [
    {
     "name": "stdout",
     "output_type": "stream",
     "text": [
      "<generator object squares at 0x106c836d0>\n",
      "Generating squares from 1 to 100\n",
      "[1, 4, 9, 16, 25, 36, 49, 64, 81, 100]\n",
      "<generator object <genexpr> at 0x106c834c0>\n",
      "[0, 1, 4, 9, 16, 25, 36, 49, 64, 81]\n",
      "285\n"
     ]
    }
   ],
   "source": [
    "def squares(n=10):\n",
    "    print('Generating squares from 1 to {0}'.format(n ** 2))\n",
    "    for i in range(1, n + 1):\n",
    "        yield i ** 2\n",
    "\n",
    "gen = squares()\n",
    "print(gen)\n",
    "print(list(gen))\n",
    "\n",
    "gen2 = (i ** 2 for i in range(10))\n",
    "print(gen2)\n",
    "print(list(gen2))\n",
    "print(sum((i ** 2 for i in range(10))))\n"
   ]
  },
  {
   "cell_type": "markdown",
   "metadata": {},
   "source": [
    "- **ITERTOOLS MODULE**\n",
    "   * The standard library itertools module has a collection of generators for many common data algorithms. For example, groupby takes any sequence and a function, grouping consecutive elements in the sequence by return value of the function."
   ]
  },
  {
   "cell_type": "markdown",
   "metadata": {},
   "source": [
    "|Function|Description|\n",
    "|----|--------|\n",
    "|combinations(iterable, k)|Generates a sequence of all possible k-tuples of elements in the iterable, ignoring order and without replacement (see also the companion function combinations_with_replacement)|\n",
    "|permutations(iterable, k)|\tGenerates a sequence of all possible k-tuples of elements in the iterable, respecting order|\n",
    "|groupby(iterable[, keyfunc])|\tGenerates (key, sub-iterator) for each unique key|\n",
    "|product(*iterables, repeat=1)|\tGenerates the Cartesian product of the input iterables as tuples, similar to a nested for loop|"
   ]
  },
  {
   "cell_type": "code",
   "execution_count": 123,
   "metadata": {},
   "outputs": [
    {
     "name": "stdout",
     "output_type": "stream",
     "text": [
      "A ['Alan', 'Adam']\n",
      "W ['Wes', 'Will']\n",
      "A ['Albert']\n",
      "S ['Steven']\n"
     ]
    }
   ],
   "source": [
    "import itertools\n",
    "first_letter = lambda x: x[0]\n",
    "names = ['Alan', 'Adam', 'Wes', 'Will', 'Albert', 'Steven']\n",
    "for letter, name in itertools.groupby(names, first_letter):\n",
    "    print(letter, list(name)) # name is a generator"
   ]
  },
  {
   "cell_type": "markdown",
   "metadata": {},
   "source": [
    "<div class=\"alert alert-block alert-warning\">\n",
    "<b>Errors and Exception Handling:</b> Handling Python errors or exceptions gracefully is an important part of building robust programs\n",
    "</div>"
   ]
  },
  {
   "cell_type": "markdown",
   "metadata": {},
   "source": [
    "* In some cases, you may not want to suppress an exception, but you want some code to be executed regardless of whether the code in the try block succeeds or not. To do this, use **finally**"
   ]
  },
  {
   "cell_type": "code",
   "execution_count": 142,
   "metadata": {},
   "outputs": [
    {
     "name": "stdout",
     "output_type": "stream",
     "text": [
      "Done\n",
      "xx\n",
      "Done\n",
      "['100', '22']\n",
      "Done\n",
      "100.0\n"
     ]
    }
   ],
   "source": [
    "def attempt_float(x):\n",
    "    try:\n",
    "        \n",
    "        return float(x)\n",
    "    except: ##(TypeError, ValueError):\n",
    "        return x \n",
    "    else:\n",
    "        print('NA')\n",
    "    finally:\n",
    "        print(\"Done\")\n",
    "\n",
    "print(attempt_float('xx'))\n",
    "print(attempt_float(['100','22']))\n",
    "print(attempt_float('100'))\n",
    "\n"
   ]
  },
  {
   "cell_type": "markdown",
   "metadata": {},
   "source": [
    "## 3.3 Files and the Operating System\n"
   ]
  },
  {
   "cell_type": "markdown",
   "metadata": {},
   "source": [
    "- **Open File**\n",
    "   * To open a file for reading or writing, use the built-in **open** function with either a relative or absolute file path\n",
    "   * By default, the file is opened in read-only mode 'r'. We can then treat the file handle f like a list and iterate over the lines\n",
    "   * The lines come out of the file with the end-of-line (EOL) markers intact, so you’ll often see code to get an EOL-free list of lines in a file\n",
    "   * When you use open to create file objects, it is important to explicitly **close the file** when you are finished with it. Closing the file releases its resources back to the operating system\n",
    "   * One of the ways to make it easier to clean up open files is to use the **with statement**, This will automatically close the file f when exiting the with block"
   ]
  },
  {
   "cell_type": "code",
   "execution_count": 200,
   "metadata": {},
   "outputs": [
    {
     "name": "stdout",
     "output_type": "stream",
     "text": [
      "Sample 1: This is a test file\n",
      "\n",
      "Sample 1: Study from Data Anlaysis\n",
      "The read method advances the file handle’s position by the number of bytes read. tell gives you the current position: 44\n",
      "Sample 2: ['This is a test file\\n', 'Study from Data Anlaysis']\n",
      "Sample 3: ['This is a test file', 'Study from Data Anlaysis']\n",
      "Sample 4: [b'This is a test file', b'Study from Data Anlaysis']\n",
      "Sample 5: ['This is a test file', 'Study from Data Anlaysis', 'Add a new line for a testest']\n"
     ]
    }
   ],
   "source": [
    "path = './Sample/3.3.sample1.txt'\n",
    "path2 = './Sample/3.3.sample2.txt'\n",
    "\n",
    "f = open(path)\n",
    "\n",
    "for line in f:\n",
    "    print(\"Sample 1: {0}\".format(line))\n",
    "print(\"The read method advances the file handle’s position by the number \"\n",
    "      \"of bytes read. tell gives you the current position: {0}\"\n",
    "      .format(f.tell()))\n",
    "\n",
    "f = open(path)\n",
    "line2 = [l for l in f]\n",
    "print(\"Sample 2: {0}\".format(line2))\n",
    "\n",
    "f.close()\n",
    "\n",
    "\n",
    "with open(path) as f: \n",
    "    line3 = [l.strip() for l in f]\n",
    "print(\"Sample 3: {0}\".format(line3))\n",
    "\n",
    "with open(path, 'rb') as f:  # Binary mode\n",
    "    line4 = [l.strip() for l in f]\n",
    "print(\"Sample 4: {0}\".format(line4))\n",
    "\n",
    "\n",
    "with open(path2, 'r+') as f: # write a new line\n",
    "    f.writelines(x for x in open(path) if len(x) > 1)\n",
    "    f.writelines('\\nAdd a new line for a test')\n",
    "\n",
    "with open(path2, 'r', encoding='utf8') as f:\n",
    "    line5 = [l.strip() for l in f]\n",
    "print(\"Sample 5: {0}\".format(line5))\n"
   ]
  },
  {
   "cell_type": "code",
   "execution_count": null,
   "metadata": {},
   "outputs": [],
   "source": []
  }
 ],
 "metadata": {
  "kernelspec": {
   "display_name": "Python 3",
   "language": "python",
   "name": "python3"
  },
  "language_info": {
   "codemirror_mode": {
    "name": "ipython",
    "version": 3
   },
   "file_extension": ".py",
   "mimetype": "text/x-python",
   "name": "python",
   "nbconvert_exporter": "python",
   "pygments_lexer": "ipython3",
   "version": "3.6.8"
  }
 },
 "nbformat": 4,
 "nbformat_minor": 2
}
