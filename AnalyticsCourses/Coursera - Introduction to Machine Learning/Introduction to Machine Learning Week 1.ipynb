{
 "cells": [
  {
   "cell_type": "markdown",
   "metadata": {},
   "source": [
    "# \"Machine Learning Duke University\" Course from [Coursera](https://www.coursera.org/learn/machine-learning-duke/home/week/1)"
   ]
  },
  {
   "cell_type": "markdown",
   "metadata": {},
   "source": [
    "## Preparations\n",
    "- **References**\n",
    "    * MNIST Data Set of Handwritten Digits (Images): http://yann.lecun.com/exdb/mnist/\n",
    "    * Math for Data Science Course: https://www.coursera.org/learn/datasciencemathskills\n",
    "    * Python Prerequisites: https://www.coursera.org/learn/machine-learning-duke/ungradedLab/YRIb5/python-prerequisites/lab\n",
    "    * PyTorch Installation: https://www.coursera.org/learn/machine-learning-duke/ungradedLab/F1H0x/pytorch-installation/lab\n",
    "    * Coding Environments: https://www.coursera.org/learn/machine-learning-duke/ungradedLab/CmUNS/coding-environments/lab\n"
   ]
  },
  {
   "cell_type": "markdown",
   "metadata": {},
   "source": [
    "## Concepts\n",
    "- **What and Why Machine Learning**: \n",
    "    * Significant improvement since 2012\n",
    "    * in medicine, ophthalmology or dermatology which are heavily based upon image analysis. Machine learning has in some cases **exceeded** the performance of medical doctors. Another area where machine learning in recent years has generated remarkable performance is in playing sophisticated games. While the games themselves are perhaps not of significant interest, the ability of a machine to solve a complex, sequential problem, which is what is represented by a game. And to perform that task in competition with a human and to beat a human is remarkable. The game Go is an ancient game, primarily played in Asia, it was long believed that a machine could not, could not beat the best human at this game. In the last few years, deep learning has shown a performance on the game Go that exceeds the performance of the best players of Go, best human players of Go in the world. \n",
    "    * The key thing to take away from this is that we have training examples which correspond to data and outcomes that we would like to model to predict. Based upon that training data we then apply that training data to a model, that model is typically characterized by a set of parameters.\n",
    "    * __Learning is actually to learn the model parameters__\n"
   ]
  },
  {
   "cell_type": "markdown",
   "metadata": {},
   "source": [
    "- **Logistic Regression**\n",
    "    * Sigmoid function, always lives between zero and one\n",
    "    * The sigmoid function is a way for us to convert predictions about the outcome on a given day into a probabilistic perspective.\n",
    "    ![Logistic%20Regression%20Formula.png](./Week%201/Logistic%20Regression%20Formula.png)\n",
    "    * The parameters B1, B2, B3, tell us how important those data variables are to the prediction and then finally that Z is sent into the Sigmoid function\n",
    "    ![Logistic%20Regression%20Concept.png](./Week%201/Logistic%20Regression%20Concept.png)\n",
    "    * Handwriting Problem, we can say with a certain probability that we are looking at a 1 digit 1, or a digit 0, so what we mean by learning is to infer the set of parameters b0 through bm\n",
    "    ![Logistic%20Regression%20Handwriting.png](./Week%201/Logistic%20Regression%20Handwriting.png)\n",
    "    * Inner product for the interpretation\n",
    "    ![Logistic%20Regression%20Interpretation.png](./Week%201/Logistic%20Regression%20Interpretation.png)\n",
    "    * The interpretation of handwriting learning\n",
    "    ![Logistic%20Regression%20Interpretation%202.png](./Week%201/Logistic%20Regression%20Interpretation%202.png)\n",
    "    * This concept of data in a product with a filter and then sent through a logistic function or the sigmoid function is at the heart of logistic regression. What we'll do as we move forward is to use this concept from logistic regression to move to more sophisticated models that we'll find in deep learning.\n",
    "    * Limitations of Logistic Regression: The key thing to take away is that the logistic regression, which is a very nice model, it has a limitation that it only works effectively whenever a **linear classifier** is effective at distinguishing class one from class zero. Any other case such as the one you're looking at here in which the **decision boundary is more complicated** for which a linear classifier will not be effective.\n",
    "    ![Logistic%20Regression%20Limitations.png](./Week%201/Logistic%20Regression%20Limitations.png)![Logistic%20Regression%20Limitations%20%28Non-Linear%20Classifier%29.png](./Week%201/Logistic%20Regression%20Limitations%20%28Non-Linear%20Classifier%29.png)\n",
    "    \n",
    "\n"
   ]
  },
  {
   "cell_type": "markdown",
   "metadata": {},
   "source": [
    "- **Multilayer Perceptron**\n",
    "    * It is actually a rather direct or natural extension from logistic regression. To be viewed as logistic regression on *K* latent features, rather than directly on the *M* components of raw data\n",
    "    ![W1.2.1.Multilayer%20Perceptron%20-%20Extended%20Logistic%20Regression.png](./Week%201/W1.2.1.Multilayer%20Perceptron%20-%20Extended%20Logistic%20Regression.png)\n",
    "    * If we go back to our multilayer perceptron, we can take our data, which here corresponds to the pixels of the image, and instead of multiplying them by filters that correspond to one average four, we might consider k equal to three filters, which correspond to four different ways in which one might draw the number four\n",
    "    ![W1.2.2.Multilayer%20Perceptron%20-%20Extended%20Logistic%20Regression%20Example.png](./Week%201/W1.2.2.Multilayer%20Perceptron%20-%20Extended%20Logistic%20Regression%20Example.png)\n",
    "    * We have a mapping for each of those k-features to a probability from 0-1. So, that basically represents the degree, or the degree to which each of those latent features a is represented in the data. Then, those k-latent features or, those k-latent probabilities are then sent through a logistic regression type model in the same way that we did previously with logistic regression, and now we have a single template filter C with which we take the inner product of those latent features, we get a variable Zeta sub i (the Greek symbol is called Zeta). The key thing to notice about what we're doing with the multilayer perceptron is that instead of taking the data xi, which has m components xi1 through xim, and then directly using logistic regression to map that to a probability of a binary outcome. We have an intermediate step where we introduce k-latent features, and then those k-latent features are then subsequently sent through a logistic regression type model to ultimately give us a probability of a binary outcome\n",
    "    ![W1.2.3.Multilayer%20Perceptron%20-%20Extended%20Logistic%20Regression%20Math%20Model%20Layer%201.png](./Week%201/W1.2.3.Multilayer%20Perceptron%20-%20Extended%20Logistic%20Regression%20Math%20Model%20Layer%201.png)\n",
    "    ![W1.2.4.Multilayer%20Perceptron%20-%20Extended%20Logistic%20Regression%20Math%20Model%20Layer%202.png](./Week%201/W1.2.4.Multilayer%20Perceptron%20-%20Extended%20Logistic%20Regression%20Math%20Model%20Layer%202.png)\n",
    "    * Deep learning is a form of machine learning where a model has multiple layers of latent processes, like below 2 layers of latent processes or filters.\n",
    "    ![W1.2.5.Multilayer%20Perceptron%20-%20Extended%20to%20Deep%20Learning.png](./Week%201/W1.2.5.Multilayer%20Perceptron%20-%20Extended%20to%20Deep%20Learning.png)\n",
    "    * Generally, for a simple logistic regression, one of those limitations was that the decision boundary between the two the types of data, the Y equal one and Y equals zero was required to be linear, a line. So, with this more complicated multilayer perceptron, it turns out that we can learn decision boundaries which are far more sophisticated. This is the key why we would go to such a complicated model.\n",
    "    * One of the applications is to do the document analysis, x for word frequency, y for liked (1) or disliked (0)\n",
    "    ![W1.2.6.Multilayer%20Perceptron%20-%20Document%20Analysis%20Application.png](./Week%201/W1.2.6.Multilayer%20Perceptron%20-%20Document%20Analysis%20Application.png)\n",
    "    ![W1.2.7.Multilayer%20Perceptron%20-%20Document%20Analysis%20Model.png](./Week%201/W1.2.7.Multilayer%20Perceptron%20-%20Document%20Analysis%20Model.png)\n",
    "    * Furthermore, to interpretate the model, below is the example\n",
    "    ![W1.2.8.Multilayer%20Perceptron%20-%20Document%20Analysis%20Model%20Intepretation.png](./Week%201/W1.2.8.Multilayer%20Perceptron%20-%20Document%20Analysis%20Model%20Intepretation.png)\n",
    "    * Transfer Learning is to use all people data for paramater, and then to reuse the parameter to predict other people\n",
    "    ![W1.2.9.Multilayer%20Perceptron%20-%20Document%20Analysis%20Model%20Intepretation%202.png](./Week%201/W1.2.9.Multilayer%20Perceptron%20-%20Document%20Analysis%20Model%20Intepretation%202.png)\n",
    "    ![W1.2.10.Multilayer%20Perceptron%20-%20Document%20Analysis%20Transfer%20Learning.png](./Week%201/W1.2.10.Multilayer%20Perceptron%20-%20Document%20Analysis%20Transfer%20Learning.png)\n",
    "    * Model selection between simple logistic regression and multilayer perceptron is to determine Bias-Variance Trade-Off and performance determination. Logistic regression has less varaince between with different training of N samples of data, but undermine performance (less accurancy)\n",
    "    ![W1.2.11.Multilayer%20Perceptron%20-%20Model%20Selection%20Simple%20Logistic%20Regression.png](./Week%201/W1.2.11.Multilayer%20Perceptron%20-%20Model%20Selection%20Simple%20Logistic%20Regression.png)\n",
    "    ![W1.2.12.Multilayer%20Perceptron%20-%20Model%20Selection%20Multilayer%20Perceptron.png](./Week%201/W1.2.12.Multilayer%20Perceptron%20-%20Model%20Selection%20Multilayer%20Perceptron.png)\n",
    "    * Neural Network was renamed as Deep learning in 2010. It advanced with CNN (1989) + GPU + ImageNet. Indeed, the underlying deep learning technology really was the convolutional neural network.\n",
    "    ![W1.2.13.Multilayer%20Perceptron%20-%20History.png](./Week%201/W1.2.13.Multilayer%20Perceptron%20-%20History.png)\n",
    "    * There's a very famous idea called Ockham's razor (\"All things being equal, the simplest solution tends to be the best one.\") and what it basically says is that if you have two ways of describing data in other words, if you have two models of data and they are equally good at describing the data, you should always choose the simpler model. One should always look for simplicity, and so when we look at the simple but often effective logistic regression and the more complicated Deep Neural Network, one must always recognize that it's probably a good idea to look at data from both perspectives and where the simple model works, the simple model should be used. "
   ]
  },
  {
   "cell_type": "markdown",
   "metadata": {},
   "source": [
    "- **Convolutional Neural Networks**\n",
    "    * The key thing is that we believe that data can be represented in a hierarchy. What we gonna do is to try to build a model that captures this structure, that captures this representation of images. For example as below, each of the motifs at layer three is composed of a subset of shifted versions of the sub-motifs and then each of the sub-motifs is composed of basic, what I'll call atomic elements which are these fundamental shapes. Then the question is, how can we build a model that we can capture the intuition in the way that images might be constituted through a hierarchy of this form.\n",
    "    ![W1.3.1.Convolutional%20Nerual%20Networks%20-%20Hierarchical%20Structure%20of%20Images.png](./Week%201/W1.3.1.Convolutional%20Nerual%20Networks%20-%20Hierarchical%20Structure%20of%20Images.png)\n",
    "    * A **correlation which measures how similar the local region in the images to our atomic element**, which we'll call a **filter**. when we shift that atomic element to every possible position in two-dimensional space of the image, when the atomic element lines up with a point in the image where that triangle is actually manifested, we get a high correlation or a high match. What we're looking at on the top is a map, we call it a **feature map**, and what it is meant to depict is **the degree of match or the degree of correlation between the atomic filter** at bottom right, with every location in the image. __The process by which you shift that atomic element the triangle__, to every location in the image that process has a name is called **convolution**. So, this is why the name convolutional neural network. The convolution is manifested by shifting that filter to every location in the image. That layer three feature map is our final feature map and then based upon those features, we're going to make a **classification** decision. If we repeat these process to layer 1 filters, layer 2 filters, layer 3 filters, we will get a deep architecture. So this **_architecture is called a convolutional neural network_**. The **_convolution is manifested through the shifting process_**.\n",
    "    ![W1.3.2.Convolutional%20Nerual%20Networks%20-%20Lay%201%20Feature%20Maps.png](./Week%201/W1.3.2.Convolutional%20Nerual%20Networks%20-%20Lay%201%20Feature%20Maps.png)\n",
    "    ![W1.3.3.Convolutional%20Nerual%20Networks%20-%20Lay%202%20Feature%20Maps.png](./Week%201/W1.3.3.Convolutional%20Nerual%20Networks%20-%20Lay%202%20Feature%20Maps.png)\n",
    "    ![W1.3.5.Convolutional%20Nerual%20Networks%20-%20CNN.png](./Week%201/W1.3.5.Convolutional%20Nerual%20Networks%20-%20CNN.png)\n",
    "    * I sub n is the nth image. Instead of atomic elements, we use **parameters** called phi 1, phi 2, through phi k correspond to k filters. The parameters of these filters are **just the pixel values**. So, what we're going to try to do is learn the pixel values associated with filter phi 1, filter phi 2, and filter phi k. The feature map is called M sub n. **Layer 2 paramters** psi 1, psi 2, through psi k. They are **digital mini stack of images**. The layer 2 feature map is called L sub n. **Layer 3 parameters*** omega 1 through omega k. Then we get layer 3 feature map at the top layer called G sub n. Finally based upon the features at the top, we can build a **classifier** called script L which will provide a label for that image. The classifier could be a multilayer perceptron or it could be a logistic regression. But in any case, it's characterized by some parameters which we denote by w. Assusmed we have labeled data with actual value (-1,1), then compare the actual value versus predict value from our model. The goal is trying to minimize the variance between actual and prediction, called risk/loss function.\n",
    "    ![W1.3.7.Convolutional%20Nerual%20Networks%20-%20CNN%20Math%20Model%202.png](./Week%201/W1.3.7.Convolutional%20Nerual%20Networks%20-%20CNN%20Math%20Model%202.png)\n",
    "    * The advantage of this deep hierarchical architecture is to share structure. The learning is manifested by taking large quantities of labelled data, learning is the concept of trying to estimate the model parameters, such that the predictions of our model are consistent with the labels, the true labels of the data. \n",
    "    ![W1.3.8.Convolutional%20Nerual%20Networks%20-%20Advantages%20of%20Hierarchical%20Features.png](./Week%201/W1.3.8.Convolutional%20Nerual%20Networks%20-%20Advantages%20of%20Hierarchical%20Features.png)"
   ]
  },
  {
   "cell_type": "markdown",
   "metadata": {},
   "source": [
    "- **Applications in the Real World**\n",
    "    * For the real images, the filters, which are learned entirely based upon the data, is that at the **first layer**, the most fundamental layer, the layer one filters, correspond to **building block filters** which are consistent with what seems to be the fundamental means of exciting the neuro architecture of the visual system of mammals. At the **layer 2**, which is at the bottom left, we see **more sophisticated structure**. If you look closely, you'll see things like eyeballs. Finally, at the higher level **layer 3** where we now see more sophisticated structure, we can actually see sketches of faces.\n",
    "    ![W1.4.1.Applications%20in%20the%20Real%20World%20-%20CNN%20on%20Real%20Images.png](./Week%201/W1.4.1.Applications%20in%20the%20Real%20World%20-%20CNN%20on%20Real%20Images.png)\n",
    "    * DeepMind developed the technology to play Go game, which essentially is based upon a deep convolutional neural network, and some additional technology which is put on the top of that, which is called reinforcement learning. The other usage is image analysis, text synthesis (based upon the long short-term memory architecture).\n",
    "    * The image analysis is very important in fields like, radiology, opthamology, and dermatology in medicine. But the labelled data amount is very limited, which we may need millions of labelled data images. So we are using another method called transfer learning. This concept of **transferring parameters** from a model trained on ImageNet to a different images, this is a significant positive aspect of deep neural networks. The key thing is through this concept of transfer learning, many of the parameters across these arguably very different applications can be transferred almost directly. Only to learn parameters at the top of a network, which are directly applicable to the confocal images. Consequently the number of parameters that we have to learn is significantly reduced, because instead of having to learn all of the parameters, we only learn for the medical images, the new parameters at the top of the network, and then we transfer all of the parameters from the ImageNet.\n",
    "    ![W1.4.3.Applications%20in%20the%20Real%20World%20-%20Transfer%20Learning%202.png](./Week%201/W1.4.3.Applications%20in%20the%20Real%20World%20-%20Transfer%20Learning%202.png)\n",
    "    "
   ]
  },
  {
   "cell_type": "code",
   "execution_count": 1,
   "metadata": {},
   "outputs": [
    {
     "name": "stdout",
     "output_type": "stream",
     "text": [
      "1.8.1\n",
      "tensor([[0.3153, 0.1667, 0.7799],\n",
      "        [0.1872, 0.5624, 0.3990]])\n"
     ]
    }
   ],
   "source": [
    "# !pip3 install torch\n",
    "import torch\n",
    "print(torch.__version__)\n",
    "x = torch.rand(2,3)\n",
    "print(x)"
   ]
  },
  {
   "cell_type": "markdown",
   "metadata": {},
   "source": [
    "- **Plot Logistic Regression**\n",
    "    * My understanding here: traditional regression model $Y_{n*1} = X_{n*m} * \\beta_{m*1} $\n",
    "    * n is the number of observations, m is the number of features or parameters\n",
    "    * we take Y and transpose it as a probablity: $ln\\dfrac {y}{1-y}$\n",
    "    * in another way, $\\sigma(z) = \\dfrac{1}{1 + e^{-z}}$"
   ]
  },
  {
   "cell_type": "code",
   "execution_count": 2,
   "metadata": {
    "scrolled": true
   },
   "outputs": [
    {
     "data": {
      "image/png": "[encoded data removed]",
      "text/plain": [
       "<Figure size 432x288 with 1 Axes>"
      ]
     },
     "metadata": {
      "needs_background": "light"
     },
     "output_type": "display_data"
    }
   ],
   "source": [
    "# %matplotlib notebook\n",
    "import matplotlib.pyplot as plt\n",
    "import numpy as np\n",
    "import math\n",
    "\n",
    "x = np.linspace(-6,6,500)\n",
    "\n",
    "y = [1 / (1 + math.exp(-i)) for i in x]\n",
    "\n",
    "plt.plot(x, y)\n",
    "plt.show()"
   ]
  },
  {
   "cell_type": "code",
   "execution_count": null,
   "metadata": {},
   "outputs": [],
   "source": []
  }
 ],
 "metadata": {
  "kernelspec": {
   "display_name": "Python 3",
   "language": "python",
   "name": "python3"
  },
  "language_info": {
   "codemirror_mode": {
    "name": "ipython",
    "version": 3
   },
   "file_extension": ".py",
   "mimetype": "text/x-python",
   "name": "python",
   "nbconvert_exporter": "python",
   "pygments_lexer": "ipython3",
   "version": "3.6.8"
  }
 },
 "nbformat": 4,
 "nbformat_minor": 4
}
