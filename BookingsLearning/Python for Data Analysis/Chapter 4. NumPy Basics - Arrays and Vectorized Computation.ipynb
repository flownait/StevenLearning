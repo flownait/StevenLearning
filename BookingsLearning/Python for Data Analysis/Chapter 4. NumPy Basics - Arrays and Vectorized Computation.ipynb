{
 "cells": [
  {
   "cell_type": "markdown",
   "metadata": {},
   "source": [
    "# \"Python for Data Analysis\" Course from [Oreilly](https://learning.oreilly.com/library/view/python-for-data/9781491957653/)\n",
    "## Chapter 4. NumPy Basics: Arrays and Vectorized Computation [Chapter4](https://learning.oreilly.com/library/view/python-for-data/9781491957653/ch04.html)"
   ]
  },
  {
   "cell_type": "markdown",
   "metadata": {},
   "source": [
    "## Preparations\n",
    "- **References**\n",
    "    * NA\n",
    "- **Advantage**\n",
    "    * ndarray, an efficient multidimensional array providing fast array-oriented arithmetic operations and flexible broadcasting capabilities.\n",
    "    * Mathematical functions for fast operations on entire arrays of data without having to write loops.\n",
    "    * Tools for reading/writing array data to disk and working with memory-mapped files.\n",
    "    * Linear algebra, random number generation, and Fourier transform capabilities.\n",
    "    * A C API for connecting NumPy with libraries written in C, C++, or FORTRAN."
   ]
  },
  {
   "cell_type": "code",
   "execution_count": 6,
   "metadata": {},
   "outputs": [
    {
     "name": "stdout",
     "output_type": "stream",
     "text": [
      "CPU times: user 9.17 ms, sys: 5.92 ms, total: 15.1 ms\n",
      "Wall time: 15.1 ms\n",
      "CPU times: user 565 ms, sys: 121 ms, total: 686 ms\n",
      "Wall time: 686 ms\n"
     ]
    }
   ],
   "source": [
    "# NumPy-based algorithms are generally 10 to 100 times faster (or more) \n",
    "# than their pure Python counterparts and use significantly less memory\n",
    "import numpy as np\n",
    "\n",
    "my_arr = np.arange(1000000)\n",
    "my_list = list(range(1000000))\n",
    "\n",
    "%time for _ in range(10): my_arr2 = my_arr * 2\n",
    "%time for _ in range(10): my_list2 = [x * 2 for x in my_list]\n",
    "\n"
   ]
  },
  {
   "cell_type": "markdown",
   "metadata": {},
   "source": [
    "## 4.1 The NumPy ndarray: A Multidimensional Array Object\n",
    "- **Features**\n",
    "    * Arrays enable you to perform mathematical operations on whole blocks of data using similar syntax to the equivalent operations between scalar elements\n",
    "    * Every array has a **shape**, a tuple indicating the size of each dimension, and a **dtype**, an object describing the data type of the array\n",
    "    * Since NumPy is focused on numerical computing, the data type, if not specified, will in many cases be **float64** (floating point)\n",
    "- **Create Array**\n",
    "    * The easiest way to create an array is to use the **array** function. \n",
    "    * It’s not safe to assume that **np.empty** will return an array of all zeros. In some cases, it may return uninitialized “garbage” values"
   ]
  },
  {
   "cell_type": "markdown",
   "metadata": {},
   "source": [
    "|Function\t|Description|\n",
    "|-----------|-----------|\n",
    "|array\t|Convert input data (list, tuple, array, or other sequence type) to an ndarray either by inferring a dtype or explicitly specifying a dtype; copies the input data by default|\n",
    "|asarray\t|Convert input to ndarray, but do not copy if the input is already an ndarray|\n",
    "|arange\t|Like the built-in range but returns an ndarray instead of a list|\n",
    "|ones, ones_like\t|Produce an array of all 1s with the given shape and dtype; ones_like takes another array and produces a ones array of the same shape and dtype|\n",
    "|zeros, zeros_like\t|Like ones and ones_like but producing arrays of 0s instead|\n",
    "|empty, empty_like\t|Create new arrays by allocating new memory, but do not populate with any values like ones and zeros|\n",
    "|full, full_like\t|Produce an array of the given shape and dtype with all values set to the indicated “fill value” full_like takes another array and produces a filled array of the same shape and dtype|\n",
    "|eye, identity\t|Create a square N × N identity matrix (1s on the diagonal and 0s elsewhere)|"
   ]
  },
  {
   "cell_type": "code",
   "execution_count": 58,
   "metadata": {},
   "outputs": [
    {
     "name": "stdout",
     "output_type": "stream",
     "text": [
      "[ 0.49762653 -0.28507136  0.35334354 -0.25492635  0.16372366] \n",
      " [ 4.97626529 -2.8507136   3.53343539 -2.54926353  1.63723657]\n",
      "shape:(3, 5)\n",
      "dtype:float64\n",
      "(2, 4) 2 int32\n",
      "[0. 0. 0. 0. 0.] \n",
      " [[[-2.31584178e+077 -2.31584178e+077  1.33397724e-322  0.00000000e+000]\n",
      "  [ 2.12199579e-314  4.82337433e+228  6.14415221e-144  1.16097020e-028]\n",
      "  [ 1.10684323e-047  2.73622032e-052  3.50367320e-033  3.97062373e+246]]\n",
      "\n",
      " [[ 1.16318408e-028  1.03141449e-071  2.14746379e+184  2.21368460e+160]\n",
      "  [ 9.14385702e-043  5.04621361e+180  8.37170571e-144  2.41650078e+185]\n",
      "  [ 3.59751658e+252  8.76749093e+252  5.01163205e+217  8.37170074e-144]]] \n",
      " [[1. 1. 1.]\n",
      " [1. 1. 1.]] \n",
      " [0 1 2 3 4]\n",
      "float64\n"
     ]
    }
   ],
   "source": [
    "data = np.random.randn(3, 5)\n",
    "print(data[1],\"\\n\",data[1] * 10)\n",
    "\n",
    "print(\"shape:{0}\\ndtype:{1}\".format(data.shape,data.dtype))\n",
    "\n",
    "# Creating array using array\n",
    "data1 = np.array(([1,2,3,4],[5,6,7,8]), dtype=np.int32)\n",
    "print(data1.shape, data1.ndim, data1.dtype)\n",
    "# Creating array using else functions\n",
    "# arange is an array-valued version of the built-in Python range function\n",
    "print(np.zeros(5),\"\\n\", np.empty((2, 3, 4)),\"\\n\", np.ones((2,3)),\"\\n\", np.arange(5))\n",
    "\n",
    "# Change array dtype\n",
    "data2 = data1.astype(np.float64)\n",
    "print(data2.dtype)"
   ]
  },
  {
   "cell_type": "code",
   "execution_count": null,
   "metadata": {},
   "outputs": [],
   "source": []
  },
  {
   "cell_type": "code",
   "execution_count": null,
   "metadata": {},
   "outputs": [],
   "source": []
  },
  {
   "cell_type": "code",
   "execution_count": null,
   "metadata": {},
   "outputs": [],
   "source": [
    "import matplotlib.pyplot as plt\n",
    "import seaborn as sns\n",
    "import scipy.stats\n",
    "import pandas as pd\n",
    "import numpy as np\n",
    "# from scipy.stats import uniform\n",
    "# from scipy.stats import norm"
   ]
  },
  {
   "cell_type": "code",
   "execution_count": null,
   "metadata": {},
   "outputs": [],
   "source": [
    "data_normal = scipy.stats.norm.rvs(size=10000, loc=1, scale=1)\n",
    "ax = sns.distplot(data_normal,\n",
    "                  bins=100,\n",
    "                  kde=True,\n",
    "                  color='skyblue',\n",
    "                  hist_kws={\"linewidth\": 15,'alpha':1})\n",
    "ax.set(xlabel='Normal Distribution', ylabel='Frequency')\n",
    "plt.show()"
   ]
  },
  {
   "cell_type": "code",
   "execution_count": null,
   "metadata": {},
   "outputs": [],
   "source": []
  },
  {
   "cell_type": "code",
   "execution_count": null,
   "metadata": {},
   "outputs": [],
   "source": []
  }
 ],
 "metadata": {
  "kernelspec": {
   "display_name": "Python 3",
   "language": "python",
   "name": "python3"
  },
  "language_info": {
   "codemirror_mode": {
    "name": "ipython",
    "version": 3
   },
   "file_extension": ".py",
   "mimetype": "text/x-python",
   "name": "python",
   "nbconvert_exporter": "python",
   "pygments_lexer": "ipython3",
   "version": "3.6.8"
  }
 },
 "nbformat": 4,
 "nbformat_minor": 2
}
