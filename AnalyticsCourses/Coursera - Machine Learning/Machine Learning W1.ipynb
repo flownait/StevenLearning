{
 "cells": [
  {
   "cell_type": "markdown",
   "metadata": {},
   "source": [
    "# \"Machine Learning\" Course from [Coursera](https://www.coursera.org/learn/machine-learning/home/welcome)"
   ]
  },
  {
   "cell_type": "markdown",
   "metadata": {},
   "source": [
    "## My Understanding\n",
    "- There are traditional method to solve cost function (squared error function), like normal equations (least square method) in a mathmatical way.\n",
    "- The problem of the traditional method is that computational effort (if thousands, millions parameters), then from a computational way, the gradient descent is more powerful\n",
    "- The idea of gradient descent is to try to find a local minimum, then derivative comes out, firstly get the derivation (like tangent point), secondly find a rate to move the iteration, and then converge into a local minimum (if it's a convex quadratic function, there is only one global minimum)"
   ]
  },
  {
   "cell_type": "markdown",
   "metadata": {},
   "source": [
    "## Introduction\n",
    "- **Supervised Learning**\n",
    "    * The term **Supervised Learning** refers to the fact that we gave the algorithm a data set in which the, called, \"right answers\" were given.\n",
    "        * **Regression** problem (predict house price) or **classification** problem (determine a malignant or benign tumor).\n",
    "        * In supervised learning, we are **given a data set** and already know what our correct output should look like, having the idea that there is a relationship between the input and the output.\n",
    "        * Supervised learning problems are categorized into \"regression\" and \"classification\" problems. In a regression problem, we are trying to predict results within a continuous output, meaning that we are trying to map input variables to some continuous function. In a classification problem, we are instead trying to predict results in a discrete output. In other words, we are trying to map input variables into discrete categories. \n",
    "- **Unsupervised Learning**\n",
    "    * In **Unsupervised Learning**, we're given data that looks different than data that looks like this that **doesn't have any labels** or that all has the same label or really no labels. We don't give the algrithim / the right answer in advance.\n",
    "        * **Cluster** problem (determine market segmentation) or **cocktail party** problem (segragate voice recording from 2 audio sources)\n",
    "        * SVD fnction stands for singular value decomposition\n",
    "![Introduction%20-%20Unsupervised%20Learning%20-%20Cocktail%20party%20problem%20algorithm.png](./W1/Introduction%20-%20Unsupervised%20Learning%20-%20Cocktail%20party%20problem%20algorithm.png)\n",
    "        * Unsupervised learning allows us to approach problems with little or no idea what our results should look like. We can derive structure from data where we don't necessarily know the effect of the variables. We can derive this structure by clustering the data based on relationships among the variables in the data. With unsupervised learning there is no feedback based on the prediction results.\n"
   ]
  },
  {
   "cell_type": "markdown",
   "metadata": {},
   "source": [
    "## Model and Cost Function\n",
    "- **Model Representation**\n",
    "    * Notation - m: traning examples, x's: input, y's: output, A pair $(x^{(i)} , y^{(i)})$ is called a training example\n",
    "    ![Model%20and%20Cost%20Function%20-%20Notation.png](./W1/Model%20and%20Cost%20Function%20-%20Notation.png)\n",
    "    * univariate linear regression: One variable regression model\n"
   ]
  },
  {
   "cell_type": "markdown",
   "metadata": {},
   "source": [
    "## Cost Function\n",
    "- Hypothesis: $h_\\theta{(x)} = \\theta_{0} + \\theta_{1}*x$\n",
    "- Parameters: $\\theta_0, \\theta_1$\n",
    "- Cost Function or Squared error function: $J(\\theta_0, \\theta_1) = \\dfrac {1}{2m} \\displaystyle \\sum _{i=1}^m \\left ( \\hat{y}_{i}- y_{i} \\right)^2 = \\dfrac {1}{2m} \\displaystyle \\sum _{i=1}^m \\left (h_\\theta (x_{i}) - y_{i} \\right)^2$\n",
    "- Goal: minimize $J(\\theta_{0},\\theta_{1})$\n",
    "- Square cost function is probably the most commonly used one for regression problems\n"
   ]
  },
  {
   "cell_type": "markdown",
   "metadata": {},
   "source": [
    "### Simplified Cost Function\n",
    "- $h_\\theta{x} = \\theta_{1}x$, assumed $\\theta_{0}$=0\n",
    "- Then $J(\\theta_{1}) = \\dfrac {1}{2m} \\displaystyle \\sum _{i=1}^m \\left (h_\\theta (x_{i}) - y_{i} \\right)^2 = \\dfrac {1}{2m} \\displaystyle \\sum _{i=1}^m \\left (\\theta_{1} x_{i} - y_{i} \\right)^2$\n",
    "\n",
    "- Then Cost Function is function of parameter $\\theta_{1}$\n",
    "    - If $\\theta_{1}$ = 1, then $J(\\theta_{1}) = J(1) = \\frac{1}{2m}\\displaystyle\\sum_{i=1}^{m}(x_{i}-y_{i})^{2}$\n",
    "    - If $\\theta_{1}$ = 0, then $J(\\theta_{1}) = J(0) = \\frac{1}{2m}\\displaystyle\\sum_{i=1}^{m}(y_{i})^{2}$\n",
    "- So to minimize J Cost Function of $\\theta_{1}$ is likely to find the minimum value of parabola function of $\\theta_{1}$\n",
    "    - We can infer as below $\\dfrac {1}{2m} \\displaystyle \\sum _{i=1}^m \\left (\\theta_{1} x_{i} - y_{i} \\right)^2 = \\dfrac {1}{2m} \\displaystyle \\sum _{i=1}^m \\left (\\theta_{1}^2 x_{i}^2 - 2 \\theta_{1} x_{i} y_{i} + y_{i}^2\\right) = \\dfrac {1}{2m} \\displaystyle (\\theta_{1}^2 \\sum _{i=1}^m x_{i}^2 - 2 \\theta_{1} \\sum _{i=1}^m  x_{i} y_{i} + \\sum _{i=1}^m y_{i}^2)$"
   ]
  },
  {
   "cell_type": "markdown",
   "metadata": {},
   "source": [
    "### Two Variable Cost Function\n",
    "- $h_\\theta{x} = \\theta_{0} + \\theta_{1}x$, if $\\theta_{0}$<>0\n",
    "- Then $J(\\theta_{1}, \\theta_{1}) = \\dfrac {1}{2m} \\displaystyle \\sum _{i=1}^m \\left (h_\\theta (x_{i}) - y_{i} \\right)^2 = \\dfrac {1}{2m} \\displaystyle \\sum _{i=1}^m \\left (\\theta_{0} + \\theta_{1} x_{i} - y_{i} \\right)^2$\n",
    "\n",
    "- Then Cost Function is function of parameter $\\theta_{0}, \\theta_{1}$\n",
    "    - If $\\theta_{0} = 1, \\theta_{1}$ = 1, then $J(\\theta_{0}, \\theta_{1}) = J(1, 1) = \\frac{1}{2m}\\displaystyle\\sum_{i=1}^{m}(1+x_{i}-y_{i})^{2}$\n",
    "    - If $\\theta_{0} = 1, \\theta_{1}$ = 0, then $J(\\theta_{0}, \\theta_{1}) = J(1, 0) = \\frac{1}{2m}\\displaystyle\\sum_{i=1}^{m}(1+y_{i})^{2}$\n",
    "- So to minimize J Cost Function of $\\theta_{1}$ is likely to find the minimum value of parabola function of $\\theta_{1}$\n",
    "    - We can infer as below $\\dfrac {1}{2m} \\displaystyle \\sum _{i=1}^m \\left (\\theta_{0} + \\theta_{1} x_{i} - y_{i} \\right)^2 = \\dfrac {1}{2m} \\displaystyle \\sum _{i=1}^m \\left (\\theta_{0}^2 + \\theta_{1}^2 x_{i}^2 + y_{i}^2 + 2 \\theta_{0} \\theta_{1} x_{i} - 2 \\theta_{0} y_{i} - 2 \\theta_{1} x_{i} y_{i} \\right)$\n",
    "    \n",
    "    ![Cost%20Function%20Intuition%20II.png](./W1/Cost%20Function%20Intuition%20II.png)\n",
    "\n"
   ]
  },
  {
   "cell_type": "markdown",
   "metadata": {},
   "source": [
    "## Parameter Learning\n",
    "### Gradient descent \n",
    "\n",
    "### Problem Setup\n",
    "- For function $J(\\theta_{0}, \\theta_{1})$, want $\\displaystyle \\min_{\\theta_{0}, \\theta_{1}} J(\\theta_{0}, \\theta_{1})$\n",
    "\n",
    "### Outline\n",
    "- Start with some $\\theta_{0}, \\theta_{1}$ (Initialize for example $\\theta_{0}=0, \\theta_{1}=0$)\n",
    "- Keep changing $\\theta_{0}, \\theta_{1}$ to reduce $J(\\theta_{0}, \\theta_{1})$ until we hopefully end up at a minimum\n",
    "\n",
    "### Algorithm\n",
    "- repeat until convergence {\n",
    "$\\theta_{j} := \\theta_{j} - \\alpha \\frac{∂}{∂\\theta_{j}} J(\\theta_{0}, \\theta_{1}) $ \n",
    "}\n",
    "    - := is assignment operator\n",
    "    - $\\alpha$ is a number called the learning rate, it basically controls how big a step we take downhill with creating descent, always a postive number; If $\\alpha$ is too small, gradient descent can be slow, if $\\alpha$ is too large, gradient descent can overshoot the minimum and may fail to converge, or even diverge\n",
    "    - Need to update $\\theta_{0}$, $\\theta_{1}$ simultaneously\n",
    "    - $\\alpha$ can be fixed, and gradient descent can still converge to a local minimum, this is because the derivative term is the tangent point, it will become smaller and smaller when close to 0.\n",
    "\n",
    "    ![gradient%20descent.png](./W1/gradient%20descent.png)\n",
    "    ![gradient%20descent%20intuition.png](./W1/gradient%20descent%20intuition.png)"
   ]
  },
  {
   "cell_type": "markdown",
   "metadata": {},
   "source": [
    "### Gradient Descent For Linear Regression\n",
    "- Apply Gradient descent algorithm to squared error cost function, \n",
    "- and then get cost function $ \\dfrac{∂}{∂\\theta_{j}} J(\\theta_{0}, \\theta_{1}) =  \\dfrac{∂}{∂\\theta_{j}} \\dfrac {1}{2m} \\displaystyle \\sum _{i=1}^m \\left (h_\\theta (x_{i}) - y_{i} \\right)^2$\n",
    "- and then substitute actual cost function and actual hypothesis function and modify the equation to:\n",
    "<br>\n",
    "repeat until convergence {\n",
    "<br>\n",
    "$\\theta_{0} := \\theta_{0} - \\alpha \\dfrac {1}{m} \\displaystyle \\sum _{i=1}^m \\left (h_\\theta (x_{i}) - y_{i} \\right)$ \n",
    "<br>\n",
    "$\\theta_{1} := \\theta_{1} - \\alpha \\dfrac {1}{m} \\displaystyle \\sum _{i=1}^m \\left ((h_\\theta (x_{i}) - y_{i} \\right)x_{i})$\n",
    "<br>\n",
    "}\n",
    "- \"Batch\" Gradient Descent: Each step of gradient descent uses all the training examples.\n",
    "\n",
    "    ![Gradient%20Descent%20For%20Linear%20Regression.png](./W1/Gradient%20Descent%20For%20Linear%20Regression.png)"
   ]
  },
  {
   "cell_type": "markdown",
   "metadata": {},
   "source": [
    "## Linear Algebra"
   ]
  },
  {
   "cell_type": "code",
   "execution_count": 35,
   "metadata": {},
   "outputs": [
    {
     "name": "stdout",
     "output_type": "stream",
     "text": [
      "[[ 1  2  3]\n",
      " [ 4  5  6]\n",
      " [ 7  8  9]\n",
      " [10 11 12]]\n",
      "[[1]\n",
      " [2]\n",
      " [3]]\n",
      "(4, 3)\n",
      "(3, 1)\n",
      "6 6\n"
     ]
    }
   ],
   "source": [
    "import numpy as np\n",
    "\n",
    "# Create a matrice\n",
    "A = np.array([[1, 2, 3],[4, 5, 6],[7,8,9],[10,11,12]])\n",
    "print(A)\n",
    "\n",
    "# Initialize a vector \n",
    "v = np.array([[1], [2], [3]])\n",
    "print(v)\n",
    "\n",
    "# Get the dimension of the matrix A where m = rows and n = columns\n",
    "dim_A = A.shape\n",
    "print(dim_A)\n",
    "\n",
    "# Get the dimension of the vector v \n",
    "dim_v = v.shape\n",
    "print(dim_v)\n",
    "\n",
    "# Now let's index into the 2nd row 3rd column of matrix A\n",
    "A_23 = A[1][2]\n",
    "a_23 = A[1,2]\n",
    "print(A_23, a_23)\n"
   ]
  },
  {
   "cell_type": "code",
   "execution_count": 40,
   "metadata": {},
   "outputs": [
    {
     "name": "stdout",
     "output_type": "stream",
     "text": [
      "[[1 2 4]\n",
      " [5 3 2]] \n",
      " [[1 3 4]\n",
      " [1 1 1]]\n",
      "[[2 5 8]\n",
      " [6 4 3]]\n",
      "[[ 0 -1  0]\n",
      " [ 4  2  1]]\n",
      "[[ 2  4  8]\n",
      " [10  6  4]]\n",
      "[[0.5 1.  2. ]\n",
      " [2.5 1.5 1. ]]\n",
      "[[3 4 6]\n",
      " [7 5 4]]\n"
     ]
    }
   ],
   "source": [
    "######### Addition and Scalar Multiplication #########\n",
    "# Initialize matrix A and B \n",
    "A = np.array([[1, 2, 4], [5, 3, 2]])\n",
    "B = np.array([[1, 3, 4], [1, 1, 1]])\n",
    "print(A,'\\n', B)\n",
    "\n",
    "# Initialize constant s \n",
    "s = 2\n",
    "\n",
    "# See how element-wise addition works\n",
    "add_AB = A + B \n",
    "print(add_AB)\n",
    "\n",
    "# See how element-wise subtraction works\n",
    "sub_AB = A - B\n",
    "print(sub_AB)\n",
    "\n",
    "# See how scalar multiplication works\n",
    "mult_As = A * s\n",
    "print(mult_As)\n",
    "\n",
    "# Divide A by s\n",
    "div_As = A / s\n",
    "print(div_As)\n",
    "\n",
    "# What happens if we have a Matrix + scalar?\n",
    "add_As = A + s\n",
    "print(add_As)\n"
   ]
  },
  {
   "cell_type": "code",
   "execution_count": 44,
   "metadata": {},
   "outputs": [
    {
     "name": "stdout",
     "output_type": "stream",
     "text": [
      "[[1 2 3]\n",
      " [4 5 6]\n",
      " [7 8 9]]\n",
      "[[1]\n",
      " [1]\n",
      " [1]]\n",
      "[[ 6]\n",
      " [15]\n",
      " [24]]\n",
      "[[1 2]\n",
      " [3 4]\n",
      " [5 6]]\n",
      "[[1]\n",
      " [2]]\n",
      "[[ 5]\n",
      " [11]\n",
      " [17]]\n"
     ]
    }
   ],
   "source": [
    "######### Matrix-Vector or Matrx-Matrix Multiplication #########\n",
    "\n",
    "# Initialize matrix A \n",
    "A = np.array([[1, 2, 3], [4, 5, 6], [7, 8, 9]])\n",
    "print(A)\n",
    "\n",
    "# Initialize vector v \n",
    "v = np.array([[1], [1], [1]])\n",
    "print(v)\n",
    "\n",
    "# Multiply A * v\n",
    "Av = A.dot(v)\n",
    "print(Av)\n",
    "\n",
    "# Initialize a 3 by 2 matrix \n",
    "A = np.array([[1, 2], [3, 4], [5, 6]])\n",
    "print(A)\n",
    "\n",
    "# Initialize a 2 by 1 matrix \n",
    "B = np.array([[1], [2]])\n",
    "print(B)\n",
    "\n",
    "# We expect a resulting matrix of (3 by 2)*(2 by 1) = (3 by 1) \n",
    "mult_AB = A.dot(B)\n",
    "print(mult_AB)\n"
   ]
  },
  {
   "cell_type": "code",
   "execution_count": 47,
   "metadata": {},
   "outputs": [
    {
     "name": "stdout",
     "output_type": "stream",
     "text": [
      "[[1 2]\n",
      " [4 5]] \n",
      " [[1 1]\n",
      " [0 2]]\n",
      "[[1. 0.]\n",
      " [0. 1.]]\n",
      "[[1. 2.]\n",
      " [4. 5.]]\n",
      "[[1. 2.]\n",
      " [4. 5.]]\n",
      "[[ 1  5]\n",
      " [ 4 14]]\n",
      "[[ 5  7]\n",
      " [ 8 10]]\n"
     ]
    }
   ],
   "source": [
    "######### Matrix Multiplication Properties #########\n",
    "\n",
    "# Initialize random matrices A and B \n",
    "A = np.array([[1,2],[4,5]])\n",
    "B = np.array([[1,1],[0,2]])\n",
    "print(A,'\\n',B)\n",
    "\n",
    "# Initialize a 2 by 2 identity matrix\n",
    "I = np.eye(2)\n",
    "print(I)\n",
    "\n",
    "# The above notation is the same as I = [1,0;0,1]\n",
    "\n",
    "# What happens when we multiply I*A ? \n",
    "IA = I.dot(A)\n",
    "print(IA)\n",
    "\n",
    "# How about A*I ? \n",
    "AI = A.dot(I)\n",
    "print(AI)\n",
    "\n",
    "# Compute A*B \n",
    "AB = A.dot(B)\n",
    "print(AB)\n",
    "\n",
    "# Is it equal to B*A? \n",
    "BA = B.dot(A)\n",
    "print(BA)\n",
    "\n",
    "# Note that IA = AI but AB != BA"
   ]
  },
  {
   "cell_type": "code",
   "execution_count": 58,
   "metadata": {},
   "outputs": [
    {
     "name": "stdout",
     "output_type": "stream",
     "text": [
      "[[1 2 0]\n",
      " [0 5 6]\n",
      " [7 0 9]]\n",
      "[[1 0 7]\n",
      " [2 5 0]\n",
      " [0 6 9]]\n",
      "[[ 0.34883721 -0.13953488  0.09302326]\n",
      " [ 0.3255814   0.06976744 -0.04651163]\n",
      " [-0.27131783  0.10852713  0.03875969]]\n",
      "[[ 1. -0.  0.]\n",
      " [-0.  1. -0.]\n",
      " [-0.  0.  1.]]\n"
     ]
    }
   ],
   "source": [
    "######### Matrix Inverse and Transpose #########\n",
    "\n",
    "# Initialize matrix A \n",
    "A = np.array([[1,2,0], [0,5,6], [7,0,9]])\n",
    "print(A)\n",
    "\n",
    "# Transpose A \n",
    "A_trans = A.T\n",
    "print(A_trans)\n",
    "\n",
    "# Take the inverse of A \n",
    "A_inv = np.linalg.inv(A)\n",
    "print(A_inv)\n",
    "\n",
    "# What is A^(-1)*A? \n",
    "A_invA = A_inv@A # @ is equivalent to np.dot as of Python 3.5\n",
    "print(A_invA.astype(np.float16))"
   ]
  },
  {
   "cell_type": "markdown",
   "metadata": {},
   "source": [
    "### Below are other practices, not necessarily related to the course"
   ]
  },
  {
   "cell_type": "code",
   "execution_count": 63,
   "metadata": {},
   "outputs": [
    {
     "data": {
      "text/plain": [
       "4"
      ]
     },
     "execution_count": 63,
     "metadata": {},
     "output_type": "execute_result"
    }
   ],
   "source": [
    "## Other practices\n",
    "\n",
    "x = np.array([3,2,4,0])\n",
    "y = np.array([4,1,3,1])\n",
    "# y_e = 0 + 1*x\n",
    "# y_e\n",
    "sum((0+1*x-y)**2)/8\n",
    "\n",
    "u = np.array([1,3,-1])\n",
    "v = np.array([2,2,4])\n",
    "u.T@v"
   ]
  },
  {
   "cell_type": "code",
   "execution_count": 1,
   "metadata": {},
   "outputs": [
    {
     "data": {
      "image/png": "[encoded data removed]",
      "text/plain": [
       "<Figure size 432x288 with 1 Axes>"
      ]
     },
     "metadata": {
      "needs_background": "light"
     },
     "output_type": "display_data"
    }
   ],
   "source": [
    "# %matplotlib notebook\n",
    "import matplotlib.pyplot as plt\n",
    "import numpy as np\n",
    "\n",
    "x = np.linspace(-2,1,500)\n",
    "\n",
    "y = x**2 + x + 10\n",
    "\n",
    "plt.plot(x, y)\n",
    "plt.show()"
   ]
  }
 ],
 "metadata": {
  "kernelspec": {
   "display_name": "Python 3",
   "language": "python",
   "name": "python3"
  },
  "language_info": {
   "codemirror_mode": {
    "name": "ipython",
    "version": 3
   },
   "file_extension": ".py",
   "mimetype": "text/x-python",
   "name": "python",
   "nbconvert_exporter": "python",
   "pygments_lexer": "ipython3",
   "version": "3.6.8"
  }
 },
 "nbformat": 4,
 "nbformat_minor": 4
}
