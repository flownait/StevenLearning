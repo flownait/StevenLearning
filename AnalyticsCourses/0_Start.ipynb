{
 "cells": [
  {
   "cell_type": "markdown",
   "metadata": {},
   "source": [
    "# \"Learn Python for Data Science\" Course from [Analytics Vidhya](https://courses.analyticsvidhya.com/courses/introduction-to-data-science?utm_source=blog&utm_medium=Comprehensive-learning-path-ds-python-page)"
   ]
  },
  {
   "cell_type": "markdown",
   "metadata": {},
   "source": [
    "### Some Shortcut for Jupyternotebook\n",
    "A to insert a new cell above the current cell, B to insert a new cell below.\n",
    "\n",
    "M to change the current cell to Markdown, Y to change it back to code\n",
    "\n",
    "D + D (press the key twice) to delete the current cell"
   ]
  },
  {
   "cell_type": "markdown",
   "metadata": {},
   "source": [
    "## Operators, Constants, Variables\n",
    "\n"
   ]
  },
  {
   "cell_type": "markdown",
   "metadata": {},
   "source": [
    "## Arithmetic Operators"
   ]
  },
  {
   "cell_type": "code",
   "execution_count": 5,
   "metadata": {},
   "outputs": [
    {
     "name": "stdout",
     "output_type": "stream",
     "text": [
      "8 5.0 70 27\n"
     ]
    }
   ],
   "source": [
    "# Addtion, Division, Multiplication, Subtraction\n",
    "print (3+5, 35/7, 35*2, 35-8)\n"
   ]
  },
  {
   "cell_type": "markdown",
   "metadata": {},
   "source": [
    "## Comparison Operators"
   ]
  },
  {
   "cell_type": "code",
   "execution_count": 6,
   "metadata": {},
   "outputs": [
    {
     "name": "stdout",
     "output_type": "stream",
     "text": [
      "True False True\n"
     ]
    }
   ],
   "source": [
    "print (45 > 34, 44 < 32, 43 == 43)"
   ]
  },
  {
   "cell_type": "markdown",
   "metadata": {},
   "source": [
    "## Logical Operators"
   ]
  },
  {
   "cell_type": "code",
   "execution_count": 18,
   "metadata": {},
   "outputs": [
    {
     "name": "stdout",
     "output_type": "stream",
     "text": [
      "0 0 7 3\n"
     ]
    }
   ],
   "source": [
    "# and operator\n",
    "## 0 is True, other number is True\n",
    "## Check 1st number, if False then return 1st\n",
    "## If True, then check next, and then return final\n",
    "print (0 and 1, 3 and 0, 3 and 7, 7 and 3)"
   ]
  },
  {
   "cell_type": "code",
   "execution_count": 14,
   "metadata": {},
   "outputs": [
    {
     "name": "stdout",
     "output_type": "stream",
     "text": [
      "3 3 3 7\n"
     ]
    }
   ],
   "source": [
    "# or operator\n",
    "## 0 is True, other number is True\n",
    "## Check 1st number if True then return 1st\n",
    "## If False, then check next, and then return final\n",
    "print (0 or 3, 3 or 0, 3 or 7, 7 or 3)"
   ]
  },
  {
   "cell_type": "markdown",
   "metadata": {},
   "source": [
    "## Variable Assignment and Rules\n",
    "### Constants can be assigned to Variables\n",
    "Python is case-sensitive\n",
    "\n",
    "Variable name cannot start with special character excpet underscore (_)\n",
    "\n",
    "Varaible name cannot start with a number"
   ]
  },
  {
   "cell_type": "code",
   "execution_count": 23,
   "metadata": {},
   "outputs": [
    {
     "name": "stdout",
     "output_type": "stream",
     "text": [
      "5\n",
      "5\n",
      "5 3\n"
     ]
    }
   ],
   "source": [
    "i = 5\n",
    "print(i)\n",
    "j = i\n",
    "print(j)\n",
    "j = 3\n",
    "print(i, j)"
   ]
  },
  {
   "cell_type": "code",
   "execution_count": 27,
   "metadata": {},
   "outputs": [
    {
     "data": {
      "text/plain": [
       "3"
      ]
     },
     "execution_count": 27,
     "metadata": {},
     "output_type": "execute_result"
    }
   ],
   "source": [
    "_a = 3\n",
    "_a"
   ]
  },
  {
   "cell_type": "markdown",
   "metadata": {},
   "source": [
    "## Data Types\n",
    "### int - integer numbers, float - decimal numbers, bool - boolean values, str - strings"
   ]
  },
  {
   "cell_type": "code",
   "execution_count": 33,
   "metadata": {},
   "outputs": [
    {
     "data": {
      "text/plain": [
       "(int, float, bool, str)"
      ]
     },
     "execution_count": 33,
     "metadata": {},
     "output_type": "execute_result"
    }
   ],
   "source": [
    "a,b,c,d = 5,5.0,True,'as'\n",
    "type(a),type(b),type(c),type(d)"
   ]
  },
  {
   "cell_type": "markdown",
   "metadata": {},
   "source": [
    "## Conditional Statements"
   ]
  },
  {
   "cell_type": "markdown",
   "metadata": {},
   "source": [
    "if condition:\n",
    "\n",
    "    statement 1\n",
    "\n",
    "elif condition2:\n",
    "\n",
    "    statement 2\n",
    "else:\n",
    "\n",
    "    statement 3"
   ]
  },
  {
   "cell_type": "code",
   "execution_count": 38,
   "metadata": {},
   "outputs": [
    {
     "name": "stdout",
     "output_type": "stream",
     "text": [
      "4\n",
      "Even\n"
     ]
    }
   ],
   "source": [
    "a = input()\n",
    "a = int(a)\n",
    "if a % 2 == 0:\n",
    "    print ('Even')\n",
    "elif a % 2 == 1:\n",
    "    print ('Odd')\n",
    "else:\n",
    "    print ('Not a number')"
   ]
  },
  {
   "cell_type": "markdown",
   "metadata": {},
   "source": [
    "## Looping Constructs\n",
    "for i in range(10,20):\n",
    "\n",
    "    print (str(i) + \" time!\")"
   ]
  },
  {
   "cell_type": "code",
   "execution_count": 48,
   "metadata": {},
   "outputs": [
    {
     "name": "stdout",
     "output_type": "stream",
     "text": [
      "2\n",
      "4\n"
     ]
    }
   ],
   "source": [
    "for i in range(2,6,2):\n",
    "    print (i)\n",
    "    \n"
   ]
  },
  {
   "cell_type": "code",
   "execution_count": 45,
   "metadata": {},
   "outputs": [],
   "source": [
    "for i in '':\n",
    "    print (str(i) + \" time!\")"
   ]
  },
  {
   "cell_type": "markdown",
   "metadata": {},
   "source": [
    "## Functions\n",
    "1. Re-usable piece of code\n",
    "2. Created for solving specific problem\n",
    "### Built-in Functions: print(), max(), range(), etc.\n",
    "### User Defined Functions\n",
    "def function_name(arguments):\n",
    "\n",
    "    statement 1\n",
    "    \n",
    "    statement 2\n",
    "    \n",
    "    ......\n",
    "    \n",
    "    return statement"
   ]
  },
  {
   "cell_type": "code",
   "execution_count": 52,
   "metadata": {},
   "outputs": [
    {
     "name": "stdout",
     "output_type": "stream",
     "text": [
      "3.1622776601683795\n"
     ]
    }
   ],
   "source": [
    "def squareroot(a):\n",
    "    b = a ** 0.5\n",
    "    return b\n",
    "print(squareroot(10))"
   ]
  },
  {
   "cell_type": "markdown",
   "metadata": {},
   "source": [
    "## Data Structures\n",
    "Data types will not always be used in all cases, then data structures (array) will help\n",
    "### Tuples\n",
    "\n",
    "\n",
    "### Lists\n",
    "A list is an ordered data structure with elements separated by comma and enclosed within square brackets.\n",
    "\n",
    "['a',1,'b',2]\n",
    "### Dictionaries\n",
    "If we do not want our data to be a sequence or want to access our data by names, enclosed key and value within braces.\n",
    "\n",
    "{key: value}\n",
    "\n",
    "{'a':1, 'b':2}"
   ]
  },
  {
   "cell_type": "code",
   "execution_count": 78,
   "metadata": {},
   "outputs": [
    {
     "name": "stdout",
     "output_type": "stream",
     "text": [
      "1\n",
      "['a', 2]\n",
      "b\n",
      "x after adding new values [1, 'a', 2, 'b', 3, 'c', 4, 'd', [5, 'e'], 3]\n",
      "x after deleting by value [1, 'a', 2, 'b', 'c', 4, 'd', [5, 'e'], 3]\n",
      "x after deleting by index [1, 'a', 2, 'b', 'c', 4, 'd', [5, 'e']]\n",
      "1\n",
      "a\n",
      "2\n",
      "b\n",
      "c\n",
      "4\n",
      "d\n",
      "[5, 'e']\n",
      "1 element\n",
      "a element\n",
      "2 element\n",
      "b element\n",
      "c element\n",
      "4 element\n",
      "d element\n",
      "[5, 'e'] element\n",
      "[1, 'a', 2, 'b', 'c', 4, 'd', [5, 'e']]\n"
     ]
    }
   ],
   "source": [
    "# List\n",
    "x = [1,'a',2,'b']\n",
    "## List sets index started from 0, same as string index\n",
    "print(x[0])\n",
    "print(x[1:3])\n",
    "print(x[-1])\n",
    "\n",
    "## Adding a single element\n",
    "x.append(3)\n",
    "x.append('c')\n",
    "## Adding multiple elements\n",
    "x.extend([4,'d'])\n",
    "## Adding list to a list\n",
    "x.append([5,'e'])\n",
    "\n",
    "x.append(3)\n",
    "print('x after adding new values ' + str(x))\n",
    "\n",
    "## Deleting an element by value (only remove first value)\n",
    "x.remove(3)\n",
    "print('x after deleting by value ' + str(x))\n",
    "## Deleting an element by index\n",
    "del x[8]\n",
    "print('x after deleting by index ' + str(x))\n",
    "\n",
    "## Looping over a List\n",
    "for i in x: print(i)\n",
    "## List comprehension\n",
    "[print(str(i)+' element') for i in x]\n",
    "print(x)\n"
   ]
  },
  {
   "cell_type": "code",
   "execution_count": 89,
   "metadata": {},
   "outputs": [
    {
     "name": "stdout",
     "output_type": "stream",
     "text": [
      "{'a': '1', 'b': 2, 'c': [3, 1]}\n",
      "{'a': '1', 'b': 2, 'c': [3, 1], 'd': 4, 'e': [1, 2, 5]}\n",
      "{'a': '1', 'b': 2, 'c': [3, 1], 'e': [1, 2, 5]}\n"
     ]
    }
   ],
   "source": [
    "## Dictionary\n",
    "x = {'a':'1', 'b':2}\n",
    "## Accessing element by keys rather than index\n",
    "x['a'],x['b']\n",
    "\n",
    "## Adding a single element to a Dictionary\n",
    "x['c']=[3,1]\n",
    "print(x)\n",
    "## Adding multiple elements\n",
    "x.update({'d':4,'e':[1,2,5]})\n",
    "print(x)\n",
    "\n",
    "## Deleting an element\n",
    "del x['d']\n",
    "print(x)"
   ]
  },
  {
   "cell_type": "markdown",
   "metadata": {},
   "source": [
    "## Standard Library\n",
    "## Module\n",
    "## Package"
   ]
  },
  {
   "cell_type": "code",
   "execution_count": null,
   "metadata": {},
   "outputs": [],
   "source": []
  }
 ],
 "metadata": {
  "kernelspec": {
   "display_name": "Python 3",
   "language": "python",
   "name": "python3"
  },
  "language_info": {
   "codemirror_mode": {
    "name": "ipython",
    "version": 3
   },
   "file_extension": ".py",
   "mimetype": "text/x-python",
   "name": "python",
   "nbconvert_exporter": "python",
   "pygments_lexer": "ipython3",
   "version": "3.6.8"
  }
 },
 "nbformat": 4,
 "nbformat_minor": 4
}
